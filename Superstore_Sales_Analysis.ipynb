{
  "nbformat": 4,
  "nbformat_minor": 0,
  "metadata": {
    "colab": {
      "provenance": [],
      "collapsed_sections": [
        "i9--0cQP_5nK",
        "s7tVfRqx4vmp",
        "2n0OgdrxVz7s",
        "gjrNB8IoeG9R",
        "JmRj9B-Gtlbw",
        "Ce4WR__yeG_X",
        "qeumWz7_Afm-",
        "ER0iQF3Hs3W3",
        "6O8obnFBtJY9",
        "UodC6s_2sqEj",
        "pusJ8gyXtZuH",
        "0BEjQDcmfynu",
        "AHe4fi2Rt0jc",
        "OgyhOFzhuAdX",
        "zBRb5iWyER01"
      ],
      "toc_visible": true,
      "include_colab_link": true
    },
    "kernelspec": {
      "name": "python3",
      "display_name": "Python 3"
    },
    "language_info": {
      "name": "python"
    }
  },
  "cells": [
    {
      "cell_type": "markdown",
      "metadata": {
        "id": "view-in-github",
        "colab_type": "text"
      },
      "source": [
        "<a href=\"https://colab.research.google.com/github/M-Taha-98/Sales-and-Profitability-Analysis/blob/main/Superstore_Sales_Analysis.ipynb\" target=\"_parent\"><img src=\"https://colab.research.google.com/assets/colab-badge.svg\" alt=\"Open In Colab\"/></a>"
      ]
    },
    {
      "cell_type": "markdown",
      "source": [
        "#**Superstore Sales Profitability Analysis**"
      ],
      "metadata": {
        "id": "sanPL33ePV5x"
      }
    },
    {
      "cell_type": "markdown",
      "source": [
        "##Import Libraries"
      ],
      "metadata": {
        "id": "i9--0cQP_5nK"
      }
    },
    {
      "cell_type": "code",
      "source": [
        "import matplotlib.pyplot as plt\n",
        "import pandas as pd\n",
        "import numpy as np\n",
        "import seaborn as sns\n",
        "import re"
      ],
      "metadata": {
        "id": "LkVxESUFAJXk"
      },
      "execution_count": null,
      "outputs": []
    },
    {
      "cell_type": "markdown",
      "source": [
        "## Read/Explore Dataset"
      ],
      "metadata": {
        "id": "4laoA2ShAUIW"
      }
    },
    {
      "cell_type": "code",
      "source": [
        "# Read the raw dataset\n",
        "\n",
        "raw_data = pd.read_csv('Superstore Dataset_raw.csv', encoding='latin1')"
      ],
      "metadata": {
        "id": "5QmT68jsAJZq"
      },
      "execution_count": null,
      "outputs": []
    },
    {
      "cell_type": "code",
      "source": [
        "raw_data.head()"
      ],
      "metadata": {
        "id": "FjqUUCoyBDOB"
      },
      "execution_count": null,
      "outputs": []
    },
    {
      "cell_type": "code",
      "source": [
        "raw_data.shape  #9994 rows and 21 columns in raw dataset"
      ],
      "metadata": {
        "id": "t6mhOwegBfKF"
      },
      "execution_count": null,
      "outputs": []
    },
    {
      "cell_type": "code",
      "source": [
        "raw_data.info()\n",
        "\n",
        "# The data type for Order Date and Dhip Date needs to be changed to datetime"
      ],
      "metadata": {
        "id": "bqvwgwUgBfME"
      },
      "execution_count": null,
      "outputs": []
    },
    {
      "cell_type": "code",
      "source": [
        "raw_data.isnull().sum()  #no missing values"
      ],
      "metadata": {
        "id": "BCO0Ce0pBfOe"
      },
      "execution_count": null,
      "outputs": []
    },
    {
      "cell_type": "code",
      "source": [
        "#Statistical Summary\n",
        "\n",
        "raw_data.describe()"
      ],
      "metadata": {
        "id": "ZQ6bU1U7DYtX"
      },
      "execution_count": null,
      "outputs": []
    },
    {
      "cell_type": "markdown",
      "source": [
        "## Data Pre-processing"
      ],
      "metadata": {
        "id": "Hu4afuQoCTzR"
      }
    },
    {
      "cell_type": "markdown",
      "source": [
        "####Drop extra columns"
      ],
      "metadata": {
        "id": "jjAcToVfGy7e"
      }
    },
    {
      "cell_type": "code",
      "source": [
        "# Creating a copy of dataframe to use in analysis\n",
        "\n",
        "df = raw_data.copy()"
      ],
      "metadata": {
        "id": "duWfMeoACWL3"
      },
      "execution_count": null,
      "outputs": []
    },
    {
      "cell_type": "code",
      "source": [
        "# Dropping columns redundant column not useful for analysis\n",
        "\n",
        "df.drop(columns = [\"Country\"], inplace = True)  #drop Country column"
      ],
      "metadata": {
        "id": "2kZme3_8CWNl"
      },
      "execution_count": null,
      "outputs": []
    },
    {
      "cell_type": "code",
      "source": [
        "df.shape"
      ],
      "metadata": {
        "id": "bGRZRtAFDNQ-"
      },
      "execution_count": null,
      "outputs": []
    },
    {
      "cell_type": "markdown",
      "source": [
        "####Data type correction"
      ],
      "metadata": {
        "id": "1zpFykETGbfV"
      }
    },
    {
      "cell_type": "code",
      "source": [
        "# Correcting datatype from string to datetime\n",
        "\n",
        "df['Order Date'] = pd.to_datetime(df['Order Date'], format = '%m/%d/%Y')"
      ],
      "metadata": {
        "id": "N1KnlaPJErFr"
      },
      "execution_count": null,
      "outputs": []
    },
    {
      "cell_type": "code",
      "source": [
        "# Correcting datatype from string to datetime\n",
        "\n",
        "df['Ship Date'] = pd.to_datetime(df['Ship Date'], format = '%m/%d/%Y')"
      ],
      "metadata": {
        "id": "-3-XhjtXGJ1y"
      },
      "execution_count": null,
      "outputs": []
    },
    {
      "cell_type": "code",
      "source": [
        "df.info()"
      ],
      "metadata": {
        "id": "q70bnqIHF7yO"
      },
      "execution_count": null,
      "outputs": []
    },
    {
      "cell_type": "markdown",
      "source": [
        "####Data Validation"
      ],
      "metadata": {
        "id": "PwCzTnf4IPWT"
      }
    },
    {
      "cell_type": "code",
      "source": [
        "# Validating that all Ship Dates follow or are equal to Order Date and not the other way around\n",
        "\n",
        "len(df[df['Ship Date'] > df['Order Date']])"
      ],
      "metadata": {
        "id": "FXc8bZ-1IRkQ"
      },
      "execution_count": null,
      "outputs": []
    },
    {
      "cell_type": "code",
      "source": [
        "len(df[df['Ship Date'] == df['Order Date']])  #543-519 = 24 order IDs have been delayed (were same day shipping but not shipped the same day)"
      ],
      "metadata": {
        "id": "UrWyegZ5IRyZ"
      },
      "execution_count": null,
      "outputs": []
    },
    {
      "cell_type": "code",
      "source": [
        "df['Ship Mode'].value_counts()"
      ],
      "metadata": {
        "id": "27p1QI7-Iz1J"
      },
      "execution_count": null,
      "outputs": []
    },
    {
      "cell_type": "markdown",
      "source": [
        "####Statistical Summary"
      ],
      "metadata": {
        "id": "VQwgsjyNG7Q9"
      }
    },
    {
      "cell_type": "code",
      "source": [
        "# Including only numeric features\n",
        "\n",
        "df.describe(include= ['int64','float64'])"
      ],
      "metadata": {
        "id": "ivRGQAZ4G6ia"
      },
      "execution_count": null,
      "outputs": []
    },
    {
      "cell_type": "markdown",
      "source": [
        "**observations:**\n",
        "  - majority (75% of data) is on the lower end of pricing and hence the generated profit.\n",
        "  - 75% of data lies below sale price of approx  &#36;209 while max sale price is &#36;22,600 which indicates presence of outliers.\n",
        "\n",
        "  - majority (75%) of items bought from this store are discounted at 20%, few items do have larger discounts such as 80%.\n",
        "\n",
        "  - superstore has incurred loss (negative profit) on some orders."
      ],
      "metadata": {
        "id": "TydNdNMuHWi_"
      }
    },
    {
      "cell_type": "code",
      "source": [
        "# Including only non-numeric features\n",
        "\n",
        "df.describe(include= ['object'])"
      ],
      "metadata": {
        "id": "q0tEGZbLK0C8"
      },
      "execution_count": null,
      "outputs": []
    },
    {
      "cell_type": "markdown",
      "source": [
        "- There is no errors in customer ID and customer name columns, each customer is represented by unique customer ID\n",
        "- The most common shipping method is Standard Class\n",
        "- Wlliam Brown has placed most orders = 37\n",
        "- A customer can place more than 1 order on same/different day hence there will be duplicate rows which is not an issue in the dataset\n",
        "- The most ordered item is Staple envelope\n",
        "- Consumer segment has placed the most number of orders, but that doesnot necessarily mean it brings in most sales.\n",
        "- Similarly most orders are for Office Supplies, but that doesnot necessarily mean it brings in most sales.\n",
        "- Most orders have been shipped to California, but is that the state bringing in most revenue?"
      ],
      "metadata": {
        "id": "i5aveL_KK4bX"
      }
    },
    {
      "cell_type": "markdown",
      "source": [
        "####Duplicate Values"
      ],
      "metadata": {
        "id": "u10URa2wPutD"
      }
    },
    {
      "cell_type": "code",
      "source": [
        "# Checking for duplicates in the data\n",
        "\n",
        "df.duplicated().sum()  #no duplicates"
      ],
      "metadata": {
        "id": "dd0TandwMlwX"
      },
      "execution_count": null,
      "outputs": []
    },
    {
      "cell_type": "code",
      "source": [
        "df.duplicated(subset=[\"Customer ID\"]).sum()  #since a customer can place ore than 1 order, duplicates are not an issue"
      ],
      "metadata": {
        "id": "oMeGZKlrMlye"
      },
      "execution_count": null,
      "outputs": []
    },
    {
      "cell_type": "markdown",
      "source": [
        "## Data Transformation"
      ],
      "metadata": {
        "id": "EprbifxwQUyA"
      }
    },
    {
      "cell_type": "markdown",
      "source": [
        "####Data Cleaning"
      ],
      "metadata": {
        "id": "S8fxGJpV_KNE"
      }
    },
    {
      "cell_type": "markdown",
      "source": [
        "**Remove leading and trailing spaces:**"
      ],
      "metadata": {
        "id": "gPHA4dAJ2a4l"
      }
    },
    {
      "cell_type": "code",
      "source": [
        "# Define function to remove leading and trailing characters\n",
        "\n",
        "for col in df.select_dtypes(include='object'):\n",
        "    df[col] = df[col].str.strip()"
      ],
      "metadata": {
        "id": "Oi0Wifim2eaC"
      },
      "execution_count": null,
      "outputs": []
    },
    {
      "cell_type": "markdown",
      "source": [
        "**Remove any leading or trailing unwanted characters from customer name:**"
      ],
      "metadata": {
        "id": "BCG4q0LD3R39"
      }
    },
    {
      "cell_type": "code",
      "source": [
        "df[df['Customer Name'].str.contains('Jason', case=False, na=False)].sample(4)"
      ],
      "metadata": {
        "id": "wSUoAnyf3sUt"
      },
      "execution_count": null,
      "outputs": []
    },
    {
      "cell_type": "markdown",
      "source": [
        "<font size=\"3\">Jason Fortune- is an error since there is an unwanted trailing character which needs to be cleaned</font>"
      ],
      "metadata": {
        "id": "CRIg1ZbP6nIq"
      }
    },
    {
      "cell_type": "code",
      "source": [
        "# Define custom function to remove unwanted characters from Customer Name field\n",
        "\n",
        "def clean_edges(text):\n",
        "    if isinstance(text, str):  # check if input is a string\n",
        "        return re.sub(r\"^[^a-zA-Z]+|[^a-zA-Z]+$\", \"\", text) # remove anything except alphabets from start and end\n",
        "    else:\n",
        "        return text  # if it's not a string (maybe NaN), return as it is"
      ],
      "metadata": {
        "id": "jI2R2Sp53gnV"
      },
      "execution_count": null,
      "outputs": []
    },
    {
      "cell_type": "code",
      "source": [
        "df['Customer Name'] = df['Customer Name'].apply(clean_edges)"
      ],
      "metadata": {
        "id": "LUqcyV_n3lsk"
      },
      "execution_count": null,
      "outputs": []
    },
    {
      "cell_type": "markdown",
      "source": [
        "**Capitalizing the Customer ID and Order ID:**"
      ],
      "metadata": {
        "id": "93dmR3Yw8Y1P"
      }
    },
    {
      "cell_type": "code",
      "source": [
        "df['Customer ID'] = df['Customer ID'].str.upper()\n",
        "df['Order ID'] = df['Order ID'].str.upper()"
      ],
      "metadata": {
        "id": "oIPviTnL8PlM"
      },
      "execution_count": null,
      "outputs": []
    },
    {
      "cell_type": "markdown",
      "source": [
        "**Replace empty string with Null in object columns:**"
      ],
      "metadata": {
        "id": "lza2xNGw90mr"
      }
    },
    {
      "cell_type": "code",
      "source": [
        "# Define function to replace empty string with Null\n",
        "\n",
        "def clean_nulls(text):\n",
        "    if isinstance(text, str):   # check if input is a string\n",
        "        if text.lower() == 'n/a':\n",
        "            return None\n",
        "        elif text == '':\n",
        "            return np.nan\n",
        "        else:\n",
        "            return text\n",
        "    else:\n",
        "        return text"
      ],
      "metadata": {
        "id": "v4F8HfBfd8wm"
      },
      "execution_count": null,
      "outputs": []
    },
    {
      "cell_type": "code",
      "source": [
        "for col in df.select_dtypes(include='object'):\n",
        "    df[col] = df[col].apply(clean_nulls)"
      ],
      "metadata": {
        "id": "yC43lUV093mK"
      },
      "execution_count": null,
      "outputs": []
    },
    {
      "cell_type": "code",
      "source": [
        "print(f\"The order date ranges between {df['Order Date'].dt.year.min()} and {df['Order Date'].dt.year.max()}\")\n",
        "print(f\"The ship date ranges between {df['Ship Date'].dt.year.min()} and {df['Ship Date'].dt.year.max()}\")"
      ],
      "metadata": {
        "id": "WgFttJkdAM-B"
      },
      "execution_count": null,
      "outputs": []
    },
    {
      "cell_type": "markdown",
      "source": [
        "####Adding Custom Columns"
      ],
      "metadata": {
        "id": "dUTiex8D_Q1E"
      }
    },
    {
      "cell_type": "code",
      "source": [
        "# Adding Cost Column\n",
        "\n",
        "df['Cost'] = df['Sales'] - df['Profit']"
      ],
      "metadata": {
        "id": "Pw7TnE5s_VGx"
      },
      "execution_count": null,
      "outputs": []
    },
    {
      "cell_type": "code",
      "source": [
        "# Adding Delay Column\n",
        "\n",
        "df['Delay'] = df['Ship Date'] - df['Order Date']"
      ],
      "metadata": {
        "id": "uLE6wU_eHX9h"
      },
      "execution_count": null,
      "outputs": []
    },
    {
      "cell_type": "code",
      "source": [
        "# Adding Gross Sales column\n",
        "\n",
        "df['PreDiscountSales'] = df['Sales'] / (1 - df['Discount'])"
      ],
      "metadata": {
        "id": "eE9L095wu0zk"
      },
      "execution_count": null,
      "outputs": []
    },
    {
      "cell_type": "code",
      "source": [
        "#df['Profit Margin'] = df['Profit'] / df['Sales']"
      ],
      "metadata": {
        "id": "HihtZAkVTQDe"
      },
      "execution_count": null,
      "outputs": []
    },
    {
      "cell_type": "code",
      "source": [
        "# Overall Profit by Date of Order\n",
        "\n",
        "b = df.groupby('Order Date')['Profit'].sum()"
      ],
      "metadata": {
        "id": "mmRH10BR_VIy"
      },
      "execution_count": null,
      "outputs": []
    },
    {
      "cell_type": "code",
      "source": [
        "plt.plot(b.index, b.values)\n",
        "\n",
        "plt.xlabel('Order Date')\n",
        "plt.ylabel('Profit ($)')\n",
        "plt.title('Profit Over Time (Daily Trend)')\n",
        "plt.xticks(rotation=45)\n",
        "\n",
        "plt.show()"
      ],
      "metadata": {
        "id": "NRlPaBf8B4LT"
      },
      "execution_count": null,
      "outputs": []
    },
    {
      "cell_type": "markdown",
      "source": [
        "## Non-Graphical Analysis"
      ],
      "metadata": {
        "id": "s7tVfRqx4vmp"
      }
    },
    {
      "cell_type": "code",
      "source": [
        "categorical  = df.select_dtypes(include = \"object\")"
      ],
      "metadata": {
        "id": "7f7c8UbE54f-"
      },
      "execution_count": null,
      "outputs": []
    },
    {
      "cell_type": "code",
      "source": [
        "for i in categorical:\n",
        "  print(f\"{i} has {df[i].nunique()} values\")\n",
        "  print(f\"{df[i].unique()}\\n\")"
      ],
      "metadata": {
        "id": "NpOquqFJ41Mw"
      },
      "execution_count": null,
      "outputs": []
    },
    {
      "cell_type": "code",
      "source": [
        "for i in categorical:\n",
        "  display(df[i].value_counts(normalize = True)*100)"
      ],
      "metadata": {
        "id": "kATVfcso43Eg"
      },
      "execution_count": null,
      "outputs": []
    },
    {
      "cell_type": "markdown",
      "source": [
        "## Bivariate Analysis"
      ],
      "metadata": {
        "id": "5fO20eOIFxRm"
      }
    },
    {
      "cell_type": "markdown",
      "source": [
        "###### **Sales vs Category / Sub-Category:** Compare Sales across product categories and subcategories"
      ],
      "metadata": {
        "id": "POpHoH9HF5hQ"
      }
    },
    {
      "cell_type": "code",
      "source": [
        "# Sales across Product Category per order basis\n",
        "\n",
        "order_category_sales = df.groupby(['Order ID', 'Category'])['Sales'].sum().reset_index() #total sales for each category within an order."
      ],
      "metadata": {
        "id": "N8z19EBsMZjV"
      },
      "execution_count": null,
      "outputs": []
    },
    {
      "cell_type": "code",
      "source": [
        "# Plotting the Barplot\n",
        "ax = sns.barplot(order_category_sales, x = 'Category', y = 'Sales', estimator='median', palette = 'coolwarm')\n",
        "\n",
        "# Annotate data labels\n",
        "for p in ax.patches:\n",
        "    ax.annotate(\n",
        "        format(p.get_height(), '.1f'),  # format height to 1 decimal\n",
        "        (p.get_x() + p.get_width() / 2., p.get_height()),  # position at center of bar\n",
        "        ha = 'center',  # horizontal alignment\n",
        "        va = 'bottom',  # vertical alignment\n",
        "        fontsize=10,\n",
        "        color='black',\n",
        "        xytext=(0, 5),  # small shift up\n",
        "        textcoords='offset points'\n",
        "    )\n",
        "\n",
        "# Setting title\n",
        "plt.title(\"Median Sales Per Order Per Product Category\", fontsize = 10)\n",
        "\n",
        "# Display the plot\n",
        "plt.show()\n",
        "\n",
        "#Technology products make the highest median sales: $219"
      ],
      "metadata": {
        "id": "I5YSDBMjF1av"
      },
      "execution_count": null,
      "outputs": []
    },
    {
      "cell_type": "code",
      "source": [
        "# Mean and Median Sales across Categories per order basis\n",
        "\n",
        "order_category_sales.groupby('Category')['Sales'].agg(['mean', 'median'])  #sales of office-supplies items is most skewed.\n",
        "\n",
        "# All category sales are right-skewed\n",
        "# Furniture: mean is 2x median\n",
        "# Office Supplies: mean is 4x median\n",
        "# Technology: mean is 2.5x median"
      ],
      "metadata": {
        "id": "SFJjgvw5Hf8c"
      },
      "execution_count": null,
      "outputs": []
    },
    {
      "cell_type": "code",
      "source": [
        "# Sales across Product Sub-Category per order basis\n",
        "\n",
        "order_sub_category_sales = df.groupby(['Order ID', 'Sub-Category'])['Sales'].sum().reset_index() #total sales for each sub-category within an order."
      ],
      "metadata": {
        "id": "eYYHF7lfOqaT"
      },
      "execution_count": null,
      "outputs": []
    },
    {
      "cell_type": "code",
      "source": [
        "# Set the canvas size\n",
        "plt.figure(figsize =(11,6))\n",
        "\n",
        "# Plotting the Barplot\n",
        "ax = sns.barplot(order_sub_category_sales, x = 'Sub-Category', y = 'Sales', estimator='median', palette = 'Set2',errorbar=None )\n",
        "\n",
        "# Annotate data labels\n",
        "for p in ax.patches:\n",
        "    ax.annotate(\n",
        "        format(p.get_height(), '.1f'),  # format height to 1 decimal\n",
        "        (p.get_x() + p.get_width() / 2., p.get_height()),  # position at center of bar\n",
        "        ha = 'center',  # horizontal alignment\n",
        "        va = 'bottom',  # vertical alignment\n",
        "        fontsize=10,\n",
        "        color='black',\n",
        "        xytext=(0, 3),  # small shift up\n",
        "        textcoords='offset points'\n",
        "    )\n",
        "\n",
        "# Plot customization\n",
        "plt.xticks(rotation=45)\n",
        "plt.title(\"Median Sales Per Order Per Product Sub-Category\", fontsize = 12)\n",
        "\n",
        "# Display the plot\n",
        "plt.show()\n",
        "\n",
        "#Copiers make the highest average sales: $1100, this is not a outlier because copiers are expensive item compared to rest of product catalogue."
      ],
      "metadata": {
        "id": "s9g_2PuDJ4Db"
      },
      "execution_count": null,
      "outputs": []
    },
    {
      "cell_type": "code",
      "source": [
        "df_unique = df.groupby('Order ID').first().reset_index()  # equivalent of distinct count"
      ],
      "metadata": {
        "id": "EOc9EbGT5dNl"
      },
      "execution_count": null,
      "outputs": []
    },
    {
      "cell_type": "code",
      "source": [
        "plt.figure(figsize =(7,2))\n",
        "\n",
        "ax  = sns.countplot(df[df['Sub-Category']=='Copiers'],y = 'Segment', width=0.5,  palette = 'Set2')\n",
        "\n",
        "for p in ax.patches:\n",
        "    ax.annotate(\n",
        "        format(p.get_width(), '.0f'),  # format height to 1 decimal\n",
        "        (p.get_x() + p.get_width(), p.get_y() + p.get_height() / 2.),  # position at center of bar\n",
        "        ha = 'left',  # horizontal alignment\n",
        "        va = 'center',  # vertical alignment\n",
        "        fontsize=10,\n",
        "        color='black',\n",
        "        xytext=(4, 0),  # small shift up\n",
        "        textcoords='offset points'\n",
        "    )\n",
        "plt.xlabel(\"Total Copiers Ordered\")\n",
        "\n",
        "plt.show()"
      ],
      "metadata": {
        "id": "BUYwcWmA0bf0"
      },
      "execution_count": null,
      "outputs": []
    },
    {
      "cell_type": "markdown",
      "source": [
        "<font size=\"3\">\n",
        "\n",
        "- Copier (sub-category bringing in most sales on average) is being most ordered by consumers. </font>"
      ],
      "metadata": {
        "id": "6h5hfzYI8-LM"
      }
    },
    {
      "cell_type": "markdown",
      "source": [
        "###### **Profit vs Category / Sub-Category:** Compare Profit across product categories and subcategories"
      ],
      "metadata": {
        "id": "-fJmBVTqDqF1"
      }
    },
    {
      "cell_type": "code",
      "source": [
        "# Profit across Product Category per order basis\n",
        "\n",
        "order_category_profit = df.groupby(['Order ID', 'Category'])['Profit'].sum().reset_index() #total profit for each category within an order."
      ],
      "metadata": {
        "id": "SLd_nLJjQSpU"
      },
      "execution_count": null,
      "outputs": []
    },
    {
      "cell_type": "code",
      "source": [
        "#Barplot\n",
        "\n",
        "ax = sns.barplot(order_category_profit, x = 'Category', y = 'Profit', estimator='median')\n",
        "\n",
        "for p in ax.patches:\n",
        "    ax.annotate(\n",
        "        format(p.get_height(), '.1f'),  # format height to 1 decimal\n",
        "        (p.get_x() + p.get_width() / 2., p.get_height()),  # position at center of bar\n",
        "        ha = 'center',  # horizontal alignment\n",
        "        va = 'bottom',  # vertical alignment\n",
        "        fontsize=10,\n",
        "        color='black',\n",
        "        xytext=(0, 5),  # small shift up\n",
        "        textcoords='offset points'\n",
        "    )\n",
        "plt.title(\"Median Profit Per Order Per Product Category\")\n",
        "\n",
        "plt.show()\n",
        "\n",
        "#Tech category is most profitable (3x than Office Supplies category) on average on per order basis."
      ],
      "metadata": {
        "id": "Q8eMTt3sDpkU"
      },
      "execution_count": null,
      "outputs": []
    },
    {
      "cell_type": "code",
      "source": [
        "# Mean and Median Profit across Categories per order basis\n",
        "\n",
        "order_category_profit.groupby('Category')['Profit'].agg(['mean', 'median'])"
      ],
      "metadata": {
        "id": "CJSFWr8UDpmu"
      },
      "execution_count": null,
      "outputs": []
    },
    {
      "cell_type": "markdown",
      "source": [
        "###### **Profit Margin Per Category / Sub-Category**"
      ],
      "metadata": {
        "id": "UqYF6uSOVfI8"
      }
    },
    {
      "cell_type": "code",
      "source": [
        "# Total Sales and Profit across Product Category per order basis\n",
        "\n",
        "order_category = df.groupby(['Order ID', 'Category']).agg(Total_Sales=('Sales', 'sum'),Total_Profit=('Profit', 'sum')).reset_index()"
      ],
      "metadata": {
        "id": "tTc4rWTlDprF"
      },
      "execution_count": null,
      "outputs": []
    },
    {
      "cell_type": "code",
      "source": [
        "# Profit Margin across Product Category per order basis\n",
        "\n",
        "order_category['Profit Margin'] = (order_category['Total_Profit'] / order_category['Total_Sales']) * 100"
      ],
      "metadata": {
        "id": "WFE92uQNVqCM"
      },
      "execution_count": null,
      "outputs": []
    },
    {
      "cell_type": "code",
      "source": [
        "# Mean and Median Profit Margin across Categories per order basis\n",
        "\n",
        "order_category.groupby('Category')['Profit Margin'].agg(['mean', 'median'])"
      ],
      "metadata": {
        "id": "QJU3py9GVqG4"
      },
      "execution_count": null,
      "outputs": []
    },
    {
      "cell_type": "markdown",
      "source": [
        "**Comparision:**"
      ],
      "metadata": {
        "id": "yYArbRWdgSX9"
      }
    },
    {
      "cell_type": "code",
      "source": [
        "# Sales, Profit and Profit Margin across Product Category comparision on per order basis\n",
        "\n",
        "result_table  = pd.concat([\n",
        "            order_category_sales.groupby('Category')['Sales'].agg(['median']).T.rename(index={'median': 'Sales'})\n",
        "          , order_category_profit.groupby('Category')['Profit'].agg(['median']).T.rename(index={'median': 'Profit'})\n",
        "          , order_category.groupby('Category')['Profit Margin'].agg(['median']).T.rename(index={'median': 'Profit Margin'})\n",
        "           ], axis=0)"
      ],
      "metadata": {
        "id": "A0yQ96pEXR2G"
      },
      "execution_count": null,
      "outputs": []
    },
    {
      "cell_type": "code",
      "source": [
        "result_table"
      ],
      "metadata": {
        "id": "lCCNFPbLXR4g"
      },
      "execution_count": null,
      "outputs": []
    },
    {
      "cell_type": "markdown",
      "source": [
        "Office Supplies has least average sales per order but has highest profit margin, while furniture has lowest profit margin despite roughly equal average sales as technology items per order, hence increase inventory of office supplies items but re-consider pricing or discount of furniture items."
      ],
      "metadata": {
        "id": "3exblhMBfeIG"
      }
    },
    {
      "cell_type": "markdown",
      "source": [
        "###### **Profit vs Sales:** Identify if higher sales always lead to higher profits or if losses exist in high sales\n"
      ],
      "metadata": {
        "id": "RTuDAk9dKDwp"
      }
    },
    {
      "cell_type": "code",
      "source": [
        "# Unique records in the dataset\n",
        "\n",
        "df['Order ID'].nunique()"
      ],
      "metadata": {
        "id": "zkN__L6eKnoS"
      },
      "execution_count": null,
      "outputs": []
    },
    {
      "cell_type": "code",
      "source": [
        "order_total_category = df.groupby(['Order ID','Category']).agg(Total_Sales=('Sales', 'sum'),Total_Profit=('Profit', 'sum')).reset_index()"
      ],
      "metadata": {
        "id": "ZpOfskp4Kjcq"
      },
      "execution_count": null,
      "outputs": []
    },
    {
      "cell_type": "code",
      "source": [
        "# Joint plot of Sales vs Profit across Product Category\n",
        "g = sns.jointplot(data = order_total_category, x= 'Total_Sales', y='Total_Profit', kind='scatter', hue = 'Category', s=70, alpha=0.7,\n",
        "    height=8 ,ratio=5)\n",
        "\n",
        "# Customizing Plot\n",
        "g.fig.suptitle('Sales ($) vs Profit ($)', fontsize=12, y=1)\n",
        "g.ax_joint.legend(title='Category', bbox_to_anchor = (1.5,1), title_fontsize='10', fontsize='9',frameon=True)\n",
        "g.fig.set_size_inches(8,6)\n",
        "\n",
        "# Display plot\n",
        "plt.tight_layout()\n",
        "plt.show()"
      ],
      "metadata": {
        "id": "eeA36WjggL85"
      },
      "execution_count": null,
      "outputs": []
    },
    {
      "cell_type": "markdown",
      "source": [
        "<font size=\"3\">It is observed that:\n",
        "-  High sales do lead to higher profits (between &#36;4000 and &#36;8000) especially for certain technology products.\n",
        "- However there are roughly equal number of high sale orders of tech products on which the company has incurred losses in range of &#36;2000 to &#36;4000.\n",
        "- Office Supply items have the highest negative profit margin on per order basis (evident by steepest slope).\n",
        "</font>"
      ],
      "metadata": {
        "id": "8sPyg1WxYanX"
      }
    },
    {
      "cell_type": "code",
      "source": [
        "# Total Sales and Profit across Product Category and Sub-Category per order basis\n",
        "\n",
        "order_total_subcategory = df.groupby(['Order ID','Category','Sub-Category']).agg(Total_Sales=('Sales', 'sum'),Total_Profit=('Profit', 'sum')).reset_index()"
      ],
      "metadata": {
        "id": "eFT0YFbjgL_C"
      },
      "execution_count": null,
      "outputs": []
    },
    {
      "cell_type": "code",
      "source": [
        "# Joint plot of Sales vs Profit for Technology Products\n",
        "\n",
        "g = sns.jointplot(data = order_total_subcategory[order_total_subcategory['Category']=='Technology'], x= 'Total_Sales', y='Total_Profit',\n",
        "    kind='scatter', hue = 'Sub-Category',palette = 'bright' ,s=70, alpha=0.7,height=8 ,ratio=3)\n",
        "\n",
        "# Customizing Plot\n",
        "g.fig.suptitle('Sales vs Profit (Tech Products)', fontsize=16, y=1)\n",
        "g.ax_joint.legend(title='Category', bbox_to_anchor = (1.6,1), title_fontsize='10', fontsize='9',frameon=True)\n",
        "g.fig.set_size_inches(8,6)\n",
        "\n",
        "# Display plot\n",
        "plt.tight_layout()\n",
        "plt.show()"
      ],
      "metadata": {
        "id": "rPWUF1WIbryc"
      },
      "execution_count": null,
      "outputs": []
    },
    {
      "cell_type": "markdown",
      "source": [
        "<font size=\"3\">It is observed that:\n",
        "- High sales on per order basis come from Copiers while Machines are denting the company beacuse of significant losses in range of &#36;2000 to &#36;4000 as discussed earlier. The superstore may consider phasing out this product offering from it's portfolio.\n",
        "</font>"
      ],
      "metadata": {
        "id": "6v9SmDOhdaAN"
      }
    },
    {
      "cell_type": "code",
      "source": [
        "# Total Sales and Profit figures for each unique phone order\n",
        "\n",
        "order_total_subcategory[order_total_subcategory['Sub-Category']=='Phones']"
      ],
      "metadata": {
        "id": "aSUEtf7UciXs"
      },
      "execution_count": null,
      "outputs": []
    },
    {
      "cell_type": "code",
      "source": [
        "temp_df = (order_total_subcategory[order_total_subcategory['Sub-Category']=='Phones']).reset_index(drop=True)"
      ],
      "metadata": {
        "id": "12OIjn4goSQK"
      },
      "execution_count": null,
      "outputs": []
    },
    {
      "cell_type": "code",
      "source": [
        "# Count total rows\n",
        "count_total = len(temp_df)\n",
        "\n",
        "# Count rows where Total_Profit > 0\n",
        "count_profit_positive = len(temp_df[temp_df['Total_Profit'] > 0])\n",
        "\n",
        "# Count rows where Total_Profit < 0\n",
        "count_profit_negative = len(temp_df[temp_df['Total_Profit'] < 0])\n",
        "\n",
        "# Count rows where Total_Profit == 0\n",
        "count_profit_zero = len(temp_df[temp_df['Total_Profit'] == 0])\n",
        "\n",
        "# Display results\n",
        "print(f\"Phone orders:\\n\\n{(count_profit_positive/count_total)*100:.2f}% orders generated profit\\n{(count_profit_negative/count_total)*100:.2f}% orders generated loss\\n{(count_profit_zero/count_total)*100:.2f}% orders were break even\")\n"
      ],
      "metadata": {
        "id": "_n_MYiNixlhM"
      },
      "execution_count": null,
      "outputs": []
    },
    {
      "cell_type": "markdown",
      "source": [
        "<font size=\"3\">\n",
        "Phone orders (within technology category) are majorly profitable hence the superstore can safely continue their sales.\n",
        "</font>"
      ],
      "metadata": {
        "id": "Bm42zxjM0s_7"
      }
    },
    {
      "cell_type": "markdown",
      "source": [
        "######  **Profit vs Sales:** Analyze which customer segments contribute the most to profit"
      ],
      "metadata": {
        "id": "qijPytm91XOA"
      }
    },
    {
      "cell_type": "code",
      "source": [
        "# Total Sales and Profit across Regions and Customer Segmnt on per order basis\n",
        "\n",
        "order_region_segment = df.groupby(['Order ID', 'Region', 'Segment']).agg(Total_Sales=('Sales', 'sum'),Total_Profit=('Profit', 'sum')).reset_index()"
      ],
      "metadata": {
        "id": "n9LwoGv4qdmT"
      },
      "execution_count": null,
      "outputs": []
    },
    {
      "cell_type": "code",
      "source": [
        "# Adding Profit Margin column\n",
        "\n",
        "order_region_segment['Profit Margin'] = (order_region_segment['Total_Profit'] / order_region_segment['Total_Sales']) * 100"
      ],
      "metadata": {
        "id": "AfSnJWcrBVGr"
      },
      "execution_count": null,
      "outputs": []
    },
    {
      "cell_type": "code",
      "source": [
        "# Segment Wise breakdown of Profit\n",
        "\n",
        "order_region_segment.groupby('Segment')['Total_Profit'].agg(['mean', 'median', 'sum', 'count'])"
      ],
      "metadata": {
        "id": "NORsTytdxUTU"
      },
      "execution_count": null,
      "outputs": []
    },
    {
      "cell_type": "markdown",
      "source": [
        "<font size=\"3\">\n",
        "\n",
        " - Consumers bring in the most profit and is the largest demographic as well.\n",
        " - On per order basis, highest median profit comes from corporate orders which is expected under the assumption that they either buy bulk quantity or pricier items such as technology products.\n",
        "</font>"
      ],
      "metadata": {
        "id": "VWW07uB-HG3l"
      }
    },
    {
      "cell_type": "code",
      "source": [
        "# Set Canvas Size\n",
        "fig = plt.figure(figsize=(12, 6))\n",
        "\n",
        "# Main Plot\n",
        "\n",
        "# Add axis [left, bottom, width, height]\n",
        "ax = fig.add_axes([0.2, 0.2, 0.55, 0.7])\n",
        "#    fig.add_axes([left, bottom, width, height])\n",
        "\n",
        "# Plot main graph\n",
        "sns.barplot(data = order_region_segment, x = 'Segment', y = 'Total_Profit', estimator='sum',fill=False, errorbar= None,width=0.5, gap=2, linewidth=2, edgecolor = '#88bceb')\n",
        "\n",
        "# Customize main plot\n",
        "ax.set_xlabel('Segment')\n",
        "ax.set_ylabel('Total Profit')\n",
        "ax.set_title(\"Total Profit By Segment\", fontdict={'fontsize':10, 'fontweight': 'normal'})\n",
        "\n",
        "# Inset plot\n",
        "\n",
        "# Add axis [left, bottom, width, height]\n",
        "inset_ax = fig.add_axes([0.54, 0.6, 0.2, 0.25])\n",
        "\n",
        "# Plot inset graph\n",
        "sns.barplot(order_region_segment, x = 'Segment', y = 'Total_Profit', estimator='median',fill=False, errorbar= None, width=0.4, linewidth=1, edgecolor='#124f86')\n",
        "\n",
        "# Customize inset plot\n",
        "inset_ax.set_title(\"Median Profit By Segment\",fontdict={'fontsize':8, 'fontweight': 'normal'}, y=1.02)\n",
        "inset_ax.set_xlabel('')\n",
        "inset_ax.set_ylabel('')\n",
        "inset_ax.tick_params(axis='y', labelsize=8)\n",
        "inset_ax.tick_params(axis='x', labelsize=8)\n",
        "\n",
        "# Display plots\n",
        "plt.show()"
      ],
      "metadata": {
        "id": "T1lB4dYe1gGm"
      },
      "execution_count": null,
      "outputs": []
    },
    {
      "cell_type": "markdown",
      "source": [
        "######  **Profit vs  Region / State:** Detect regional performance disparities and spot high/low-profit zones\n"
      ],
      "metadata": {
        "id": "0ANnpvv6KZyt"
      }
    },
    {
      "cell_type": "code",
      "source": [
        "# Per-order profitability by Region (e.g., \"What’s the average profit per transaction/per order in the West region?\")\n",
        "\n",
        "order_region_segment.groupby('Region')['Total_Profit'].agg(['mean', 'median','sum']).sort_values(by='sum', ascending=False)"
      ],
      "metadata": {
        "id": "6clp2XxHxy1i"
      },
      "execution_count": null,
      "outputs": []
    },
    {
      "cell_type": "markdown",
      "source": [
        "<font size=\"3\">\n",
        "It is observed that:\n",
        "\n",
        " - West region outperforms others with approximately 15% more profit generated compared to East region which is the next most profitable region on per order basis.\n",
        " - Central Region is the most under-performing region with cumulative profit of approx &#36;40,000 which is roughly 3x lesser than West region.\n",
        " - Mean Profit as multiple of Median Profit by region:\n",
        "   \n",
        "   West: 2.8x  East: 4x  South: 3x  Central: 5x\n",
        "\n",
        "   - This shows that there are high-value orders coming from Central region which pulls the mean order value much higher than the median: need to explore segment distribution in Central region to find if majorly corporate customers are ordering from there which are expected to make bulk quantity orders i.e. high-value orders.\n",
        "\n",
        "\n",
        "</font>"
      ],
      "metadata": {
        "id": "TmSq0nk6sePR"
      }
    },
    {
      "cell_type": "code",
      "source": [
        "# Per-item profitability by Region (e.g., \"What’s the median profit of individual products sold in the East region?\")\n",
        "\n",
        "pd.pivot_table(df, values = 'Profit', index = 'Region', aggfunc = ['mean','median', 'sum']).sort_values(by=('sum', 'Profit'), ascending=False)"
      ],
      "metadata": {
        "id": "ps-t2qC0KdsL"
      },
      "execution_count": null,
      "outputs": []
    },
    {
      "cell_type": "markdown",
      "source": [
        "######  **Profit Distribution by Region and Segment**"
      ],
      "metadata": {
        "id": "RXJVTYhKvFbb"
      }
    },
    {
      "cell_type": "code",
      "source": [
        "# Regional Per Order/Transaction Profit Distribution by Customer Segment\n",
        "\n",
        "pd.pivot_table(order_region_segment, values = 'Total_Profit', index = 'Segment', columns = 'Region', aggfunc = ['mean','median', 'sum']).sort_values(by=('sum', 'Central'), ascending=False)"
      ],
      "metadata": {
        "id": "v5x0H3ozzN5v"
      },
      "execution_count": null,
      "outputs": []
    },
    {
      "cell_type": "markdown",
      "source": [
        "<font size=\"3\">\n",
        "It is observed that:\n",
        "\n",
        " - This table confirms that in Central Region, major profit is earned from Corporate hence the large disparity between median and mean profit per order.\n",
        " - It is also noted that in East, South and West regions, consumer segment brings in the biggest share of profit per transaction while Corporate Segment is biggest profit contributor in Central region.\n",
        " - However, most profit from Corporate segment has been earned from West region, this could be merely due to more Corporate orders coming in from there due to higher Corporate concentration in the West region compared to other regions. This needs to be explored.\n",
        "\n",
        "\n",
        "</font>"
      ],
      "metadata": {
        "id": "U6HhM63905UC"
      }
    },
    {
      "cell_type": "code",
      "source": [
        "# Order frequency across Region and Customer segment\n",
        "\n",
        "pd.pivot_table(order_region_segment, values = 'Order ID', index = 'Region', columns = 'Segment', aggfunc = ['count'],margins=True,margins_name='Total')"
      ],
      "metadata": {
        "id": "q4Od2n0d8wLr"
      },
      "execution_count": null,
      "outputs": []
    },
    {
      "cell_type": "markdown",
      "source": [
        "<font size=\"3\">\n",
        "It is observed that:\n",
        "\n",
        " - Most Corporate orders come from West region confirming why most profit from Corporate segment has been earned from West region.\n",
        " - Interestingly in Central region, most orders come from Consumer segment like other regions but Consumer segment has brought in least profit per order as seen in previous table. Is that because of larger discounts in Central region for consumers compared to other regions or high costs incurred by the store in Central region which is reducing the profit margin?\n",
        "\n",
        "\n",
        "</font>"
      ],
      "metadata": {
        "id": "UcvG209_-Asv"
      }
    },
    {
      "cell_type": "code",
      "source": [
        "# Regional Per Order/Transaction Profit, Sales and Profit Margin Distribution by Customer Segment\n",
        "\n",
        "order_region_segment.groupby(['Region','Segment']).agg({'Total_Profit':['sum'],'Total_Sales':['sum'], 'Profit Margin': ['mean', 'median']})"
      ],
      "metadata": {
        "id": "ybvg0KU8BOpW"
      },
      "execution_count": null,
      "outputs": []
    },
    {
      "cell_type": "markdown",
      "source": [
        "<font size=\"3\">\n",
        "It is observed that:\n",
        "\n",
        " - Unlike other regions where median profit margin (per order basis) is stable across segments, in Central region: the profit margin for Consumer segment is nearly half of Home Office segment.\n",
        "\n",
        " - Is that because of larger discounts in Central region for consumers compared to other regions or high costs incurred by the store in Central region can be explored.\n",
        "\n",
        "\n",
        "</font>"
      ],
      "metadata": {
        "id": "D6fZ8Rm0Ewng"
      }
    },
    {
      "cell_type": "markdown",
      "source": [
        "**What percentage of orders come from each segment and region?**"
      ],
      "metadata": {
        "id": "RXBZzkJlBFCL"
      }
    },
    {
      "cell_type": "code",
      "source": [
        "segment_count = order_region_segment[['Region','Segment']].value_counts().unstack()"
      ],
      "metadata": {
        "id": "GOdeSUmvaxNS"
      },
      "execution_count": null,
      "outputs": []
    },
    {
      "cell_type": "code",
      "source": [
        "segment_count"
      ],
      "metadata": {
        "id": "mxEpRAci8Y0r"
      },
      "execution_count": null,
      "outputs": []
    },
    {
      "cell_type": "code",
      "source": [
        "# Subplots\n",
        "\n",
        "fig, ax = plt.subplots(figsize=(6, 6))\n",
        "\n",
        "size = 0.3\n",
        "\n",
        "# Calculate percentages for Segments (inner pie)\n",
        "\n",
        "segment_percentages = (segment_count / segment_count.sum(axis=1).values.reshape(-1,1)) * 100\n",
        "\n",
        "# Inner Pie (Segments per Region)\n",
        "\n",
        "inner_pie = ax.pie(\n",
        "    segment_count.values.flatten(),                                       # Flatten segment counts\n",
        "    #labels=segment_count.columns.repeat(len(segment_count)),\n",
        "    labels=[f'{p:.1f}%' for p in segment_percentages.values.flatten()],   # Show % labels\n",
        "    labeldistance=0.75,\n",
        "    wedgeprops=dict(width=0.25, edgecolor='white'),\n",
        "    textprops={'fontsize': 8, 'color': 'black' },\n",
        "    colors=['#90c1ec', '#e18d89', '#ffca8d'] * len(segment_count),\n",
        "    radius=1-size,\n",
        "    startangle=90,\n",
        ")\n",
        "\n",
        "# Add center legend for segments\n",
        "\n",
        "ax.legend(\n",
        "    inner_pie[0][:3],                                                     # First instance of each segment color\n",
        "    segment_count.columns,\n",
        "    title=\"Segments\",\n",
        "    loc='center',\n",
        "    bbox_to_anchor=(1.2, 0.5)\n",
        ")\n",
        "\n",
        "# Outer Pie (Regions)\n",
        "\n",
        "outer_pie = ax.pie(\n",
        "    segment_count.sum(axis=1),\n",
        "    labels = segment_count.index,\n",
        "    autopct='%1.1f%%',\n",
        "    pctdistance=0.85,\n",
        "    startangle=90,\n",
        "    wedgeprops=dict(width=0.2, edgecolor='white'),\n",
        "    colors=['#FF9999', '#66B3FF', '#99FF99', '#FFCC99'],\n",
        "    radius=1\n",
        ")\n",
        "\n",
        "# Equal aspect ratio ensures pie is drawn as a circle\n",
        "\n",
        "ax.axis('equal')\n",
        "\n",
        "# Title and Legend\n",
        "'''\n",
        "plt.title('Orders by Region and Segment', pad=20)\n",
        "plt.legend(\n",
        "    handles=outer_pie[0],\n",
        "    labels = segment_count.index,\n",
        "    title=\"Regions\",\n",
        "    loc=\"upper left\",\n",
        "    bbox_to_anchor=(1, 0.9)\n",
        ") '''\n",
        "\n",
        "# Display Plot\n",
        "\n",
        "plt.tight_layout()\n",
        "plt.show()"
      ],
      "metadata": {
        "id": "LkTrtKOtyJLx"
      },
      "execution_count": null,
      "outputs": []
    },
    {
      "cell_type": "markdown",
      "source": [
        "######  **Profit vs Ship Mode:** Check if certain shipping methods are more profitable or cost-intensive"
      ],
      "metadata": {
        "id": "Lc5Po3hVaimC"
      }
    },
    {
      "cell_type": "code",
      "source": [
        "# Cost, Profit and Sales by Ship Mode per unique order\n",
        "\n",
        "per_transaction = df.groupby(['Order ID','Ship Mode']).agg(Total_Sales=('Sales', 'sum'),Total_Profit=('Profit', 'sum'),Total_Cost = ('Cost', 'sum') ).reset_index()"
      ],
      "metadata": {
        "id": "h8s81ycRw8tz"
      },
      "execution_count": null,
      "outputs": []
    },
    {
      "cell_type": "code",
      "source": [
        "# Adding Profit Margin column\n",
        "\n",
        "per_transaction['Profit Margin'] = (per_transaction['Total_Profit'] / per_transaction['Total_Sales']) * 100"
      ],
      "metadata": {
        "id": "o62aRNeUaiK7"
      },
      "execution_count": null,
      "outputs": []
    },
    {
      "cell_type": "code",
      "source": [
        "#pd.crosstab(per_transaction['Ship Mode'], per_transaction['Total_Profit'], normalize = True)\n",
        "\n",
        "# Total Cost, Profit and Sales distribution across types of Ship Mode on per order basis\n",
        "\n",
        "ship_mode = pd.pivot_table(per_transaction, values =['Total_Cost','Total_Profit','Total_Sales'], index = 'Ship Mode', aggfunc = ['sum'])"
      ],
      "metadata": {
        "id": "N4NARu91cv04"
      },
      "execution_count": null,
      "outputs": []
    },
    {
      "cell_type": "code",
      "source": [
        "# Adding Profit Margin column\n",
        "\n",
        "ship_mode['Profit_Margin'] = (ship_mode[('sum', 'Total_Profit')]/ship_mode[('sum',  'Total_Sales')])*100"
      ],
      "metadata": {
        "id": "J0R6xnTseap8"
      },
      "execution_count": null,
      "outputs": []
    },
    {
      "cell_type": "code",
      "source": [
        "# Sorting by Profit Margin\n",
        "\n",
        "ship_mode.sort_values(by=('Profit_Margin'), ascending=False)"
      ],
      "metadata": {
        "id": "CXx7n-b0ear_"
      },
      "execution_count": null,
      "outputs": []
    },
    {
      "cell_type": "code",
      "source": [
        "# Sorting by Total Sales\n",
        "\n",
        "ship_mode.sort_values(by=('sum',  'Total_Sales'), ascending=False)"
      ],
      "metadata": {
        "id": "KRH2aPQWjpf7"
      },
      "execution_count": null,
      "outputs": []
    },
    {
      "cell_type": "markdown",
      "source": [
        "<font size=\"3\">\n",
        "It is observed that:\n",
        "\n",
        " - Standard Class yields the lowest profit margin despite highest total sales and profit. This could be because it is cost-intensive (may be eating into profits due to high logistics costs).\n",
        "\n",
        "- Track the Region with most number of standard class orders -> Track the cities within that region with most number of standard class orders -> this will help superstore narrow down specific locations where it needs to negotiate better cost with the shipping partner to increase it's profit margin.\n",
        "\n",
        "\n",
        "</font>"
      ],
      "metadata": {
        "id": "5s5zFxvnhuF7"
      }
    },
    {
      "cell_type": "markdown",
      "source": [
        "<font size=\"3\">\n",
        "The low profit margin for Standard Class could be due to following reasons:\n",
        "\n",
        " 1.  Standard Class handles a large volume of **low-margin orders** (e.g., bulk discounts, competitive pricing), the profit per transaction could be smaller even if total profit is high.\n",
        "\n",
        "2. Price Sensitivity and Customer Behavior: Standard Class might attract price-sensitive customers who buy cheaper items, yielding less profit per sale/ low Average Order Value (AOV).\n",
        "\n",
        "3. Shipping Costs: Standard Class might have lower fixed costs (e.g., no expedited logistics) but **higher variable costs per order** (e.g., longer delivery times → more handling, returns, or discounts). Due to lack of shipping cost data, this cannot be investigated.\n",
        "\n",
        "</font>"
      ],
      "metadata": {
        "id": "7NSyBfUGngP5"
      }
    },
    {
      "cell_type": "code",
      "source": [
        "# Average Order Value (AOV) or Average Sale Per Order:\n",
        "\n",
        "per_transaction.groupby('Ship Mode')['Total_Sales'].agg(['mean','median'])\n",
        "\n",
        "# The median AOV for standard class is approx $147 which is nearly same as that of First Class."
      ],
      "metadata": {
        "id": "egWFtE40fvZ0"
      },
      "execution_count": null,
      "outputs": []
    },
    {
      "cell_type": "code",
      "source": [
        "# Comparing across shipping methods to see if Standard Class has lower profit per transaction:\n",
        "\n",
        "per_transaction.groupby('Ship Mode')['Total_Profit'].agg(['mean','median'])"
      ],
      "metadata": {
        "id": "A9MGM1r7pFT2"
      },
      "execution_count": null,
      "outputs": []
    },
    {
      "cell_type": "markdown",
      "source": [
        "<font size=\"3\">\n",
        "\n",
        " Despite similar AOV and profit per transaction/order, Standard Class has lowest profit margin while First Class has highest profit margin.This could be due to:\n",
        "\n",
        " - **Price Premium for Speed**: First Class likely charges a higher shipping fee or Standard Class shipping could be free hence adding to direct profit.\n",
        " - **Fewer Discounts**: First Class orders might be less likely to use bulk discounts, preserving margin as opposed to Standard Class.\n",
        " - **Lower Operational Costs**: First Class may have lower operational cost (such as lower labor cost due to prioritized processing or fewer return/order cancellations).\n",
        " - **Customer Segment Differences**:\n",
        "  - First Class buyers may purchase **higher-margin products** (even if AOV is similar).\n",
        "  - Standard Class might be used for low-margin, high-volume items (e.g., essentials).\n",
        "\n",
        "\n",
        "</font>"
      ],
      "metadata": {
        "id": "qnXwUCBjx6mv"
      }
    },
    {
      "cell_type": "markdown",
      "source": [
        "<font size=\"3\">\n",
        "\n",
        " Recommended Steps:\n",
        "\n",
        " - **Analyze Product Mix by Shipping Method**:\n",
        " Check if Standard Class is tied to low-margin products. If yes, then bundle products to increase AOV.\n",
        " - **Promote First Class Shipping**: Since it yeilds the highest profit margin (approx 14%), hence highlight perks (faster delivery, fewer returns) to justify the price for first class shipping.\n",
        " - **Validate Hypothesis**:\n",
        "  - \"Standard Class’s low margin is driven by high promotional discounts.\"\n",
        "    - Can be done by running A/B test or regression analysis with recent historical data if A/B test is not feasible. Be vary of correlation ≠ causation and cofounding variables when running regression analysis. If discounts are found to be eroding profit margins for standard shipping orders, then decision may be made to lower discounts.\n",
        " - **Analyze Cost Data**: If Standard Class orders have high logistic cost, then better terms may be negotiated with carriers such as lower bulk shipping rates.\n",
        "\n",
        "\n",
        "</font>"
      ],
      "metadata": {
        "id": "VR7Sz5V403by"
      }
    },
    {
      "cell_type": "markdown",
      "source": [
        "######  **Profit vs Time (Month/Year)**: Seasonal profitability trends"
      ],
      "metadata": {
        "id": "z4QMegdY5f_x"
      }
    },
    {
      "cell_type": "code",
      "source": [
        "# Define function to label quarters\n",
        "\n",
        "def quarter(date):\n",
        "    if (date.month >= 0) and (date.month <= 3):\n",
        "      return 'Q1'\n",
        "\n",
        "    elif (date.month >= 4) and (date.month <= 6):\n",
        "      return 'Q2'\n",
        "\n",
        "    elif (date.month >= 7) and (date.month <= 9):\n",
        "      return 'Q3'\n",
        "\n",
        "    else:\n",
        "      return 'Q4'"
      ],
      "metadata": {
        "id": "K-Dfrs4r781Y"
      },
      "execution_count": null,
      "outputs": []
    },
    {
      "cell_type": "code",
      "source": [
        "# Add Quarter column\n",
        "\n",
        "df['Quarter'] = df['Order Date'].apply(lambda x: quarter(x))"
      ],
      "metadata": {
        "id": "EIAXcUlZDPDQ"
      },
      "execution_count": null,
      "outputs": []
    },
    {
      "cell_type": "code",
      "source": [
        "# Add Year column\n",
        "\n",
        "df['Year'] = df['Order Date'].dt.year"
      ],
      "metadata": {
        "id": "TVRTypoBDtbl"
      },
      "execution_count": null,
      "outputs": []
    },
    {
      "cell_type": "code",
      "source": [
        "# Add Month column\n",
        "\n",
        "df['Month'] = df['Order Date'].dt.month"
      ],
      "metadata": {
        "id": "LIq_wCbMak81"
      },
      "execution_count": null,
      "outputs": []
    },
    {
      "cell_type": "code",
      "source": [
        "# Total Seasonal Profit and Sales across each Quarter\n",
        "\n",
        "seasonal_profit_sales = df.groupby(['Year','Quarter'])[['Profit','Sales']].sum().reset_index()"
      ],
      "metadata": {
        "id": "rEVAu63yDt-M"
      },
      "execution_count": null,
      "outputs": []
    },
    {
      "cell_type": "code",
      "source": [
        "# Adding Profit Margin column\n",
        "\n",
        "seasonal_profit_sales['Profit Margin'] = (seasonal_profit_sales['Profit']/seasonal_profit_sales['Sales'])*100"
      ],
      "metadata": {
        "id": "qo-fWGIXM7Zl"
      },
      "execution_count": null,
      "outputs": []
    },
    {
      "cell_type": "code",
      "source": [
        "# Adding label for x-tick\n",
        "\n",
        "seasonal_profit_sales['Year-Quarter'] = seasonal_profit_sales['Year'].astype(str) + '-' + seasonal_profit_sales['Quarter']"
      ],
      "metadata": {
        "id": "WFcTqq6lHc8K"
      },
      "execution_count": null,
      "outputs": []
    },
    {
      "cell_type": "code",
      "source": [
        "# Sorting ascending by time\n",
        "\n",
        "seasonal_profit_sales = seasonal_profit_sales.sort_values(['Year', 'Quarter'])"
      ],
      "metadata": {
        "id": "7dHFQZYKHdBA"
      },
      "execution_count": null,
      "outputs": []
    },
    {
      "cell_type": "code",
      "source": [
        "# Subplots\n",
        "fig, axes = plt.subplots(nrows=3,ncols =1 ,figsize=(10,13))\n",
        "\n",
        "#first plot: Profit\n",
        "axes[0].plot(seasonal_profit_sales['Year-Quarter'], seasonal_profit_sales['Profit'], marker='o', linestyle='--', color= '#5b5f9a')\n",
        "axes[0].set_ylabel('Profit ($)')\n",
        "axes[0].set_title(\"Quarterly Trends (2014-2017)\", fontsize=11)\n",
        "axes[0].tick_params(axis='x', labelrotation=45)\n",
        "axes[0].grid(True, linestyle='--', alpha=0.2)\n",
        "\n",
        "#second plot: Sales\n",
        "axes[1].plot(seasonal_profit_sales['Year-Quarter'], seasonal_profit_sales['Sales'], marker='o', linestyle='--', color= '#9b645e')\n",
        "axes[1].set_ylabel('Sales ($)')\n",
        "#axes[1].set_title(\"Quarterly Sales Trends (2014-2017)\", fontsize=11)\n",
        "axes[1].tick_params(axis='x', labelrotation=45)\n",
        "axes[1].grid(True, linestyle='--', alpha=0.2)\n",
        "\n",
        "#third plot: Profit Margin\n",
        "axes[2].plot(seasonal_profit_sales['Year-Quarter'], seasonal_profit_sales['Profit Margin'], marker='o', linestyle='--', color= '#87b87e')\n",
        "axes[2].set_ylabel('Profit Margin (%)')\n",
        "#axes[2].set_title(\"Quarterly Profit Margin Trends (2014-2017)\", fontsize=11)\n",
        "axes[2].tick_params(axis='x', labelrotation=45)\n",
        "axes[2].grid(True, linestyle='--', alpha=0.2)\n",
        "\n",
        "# Display plot\n",
        "plt.tight_layout()\n",
        "plt.show()"
      ],
      "metadata": {
        "id": "VpSVxrz1RDGV"
      },
      "execution_count": null,
      "outputs": []
    },
    {
      "cell_type": "markdown",
      "source": [
        "**Quarterly Profit Trends (2014–2017)**\n",
        "\n",
        "- Overall Growth: Profit shows a general increasing trend from 2014 to 2017, with significant spikes in late 2016 and late 2017.\n",
        "\n",
        "- Volatility: There are frequent sharp drops after high peaks (e.g., after 2014 Q4, 2015 Q4, 2016 Q4).\n",
        "\n",
        "- Seasonality: Q4 of each year tends to have a strong spike in profits, suggesting seasonal effects (possibly due to holiday sales).\n",
        "\n",
        "- Recent Stability: In 2017 Q3 and Q4, profits stabilize at a relatively high level compared to earlier years.\n",
        "\n",
        "**Quarterly Sales Trends (2014–2017)**\n",
        "- Steady Growth: Sales show a strong and relatively consistent upward trend over the years.\n",
        "\n",
        "- Sharp Drops: Noticeable sales drops occur in Q1 of each year, especially in 2015 and 2016.\n",
        "\n",
        "- Peak in Q4: Like profits, sales peak dramatically in Q4 of each year — indicating strong end-of-year performance.\n",
        "\n",
        "- Acceleration: The sales growth rate accelerates particularly in 2017.\n",
        "\n",
        "**Quarterly Profit Margin Trends (2014–2017)**\n",
        "\n",
        "- Initial Stability, Later Volatility: Profit margins are fairly stable around 12–14% from 2014 to early 2016 but become much more volatile afterward.\n",
        "\n",
        "- High Peaks: A major peak occurs in 2017 Q1 (around 19%), suggesting exceptional efficiency/profitability for that quarter.\n",
        "\n",
        "- Recent Decline: After peaking, profit margins decrease sharply towards the end of 2017 despite high sales.\n",
        "\n",
        "- Decoupling: Sales and profits are growing, but margins are shrinking, indicating rising costs or inefficiencies.\n",
        "\n"
      ],
      "metadata": {
        "id": "syMZwqREY0zq"
      }
    },
    {
      "cell_type": "markdown",
      "source": [
        "**Actionable Recommendations**:\n",
        "- Investigate Q4 Strategies: Leverage the success of Q4 campaigns throughout the year — analyze what drives the Q4 spikes (e.g., promotions, product launches, seasonal demand).\n",
        "\n",
        "- Address Margin Compression: Since profit margins declined in late 2017 despite high sales, stakeholders should analyze cost structures — possibly renegotiating supplier contracts, optimizing operational costs, or increasing prices selectively.\n",
        "\n",
        "- Smooth Out Seasonality: Explore strategies to boost Q1 sales and profits, which consistently dip — such as loyalty programs, off-season promotions, or new product introductions early in the year.\n",
        "\n",
        "- Focus on Sustainable Growth: While sales are growing rapidly, ensuring that profit margins are maintained will be crucial. Focus should not only be on revenue growth but also on operational efficiency.\n",
        "\n",
        "- Predict and Prepare for Volatility: Build contingency plans for quarters following strong Q4s to cushion typical profit and sales drop-offs (like in Q1).\n",
        "\n",
        "- Deep Dive into 2017: Specially investigate why profit margins declined despite record sales — was it due to heavy discounting, rising input costs, or operational issues?"
      ],
      "metadata": {
        "id": "LQRQoArCXqTV"
      }
    },
    {
      "cell_type": "markdown",
      "source": [
        "## Multivariate Analysis\n"
      ],
      "metadata": {
        "id": "apb_qlvqU6_l"
      }
    },
    {
      "cell_type": "markdown",
      "source": [
        "######  **Profit Margin vs Time**"
      ],
      "metadata": {
        "id": "1zmYk86pZtVM"
      }
    },
    {
      "cell_type": "code",
      "source": [
        "# Define function for Weighted Discount\n",
        "\n",
        "def WeightedDiscountRate(group):\n",
        "  return (group['Discount'] * group['PreDiscountSales']).sum() / group['PreDiscountSales'].sum()"
      ],
      "metadata": {
        "id": "06bZpsKWy58C"
      },
      "execution_count": null,
      "outputs": []
    },
    {
      "cell_type": "code",
      "source": [
        "# Weighted Discount Rate is a way of measuring the true economic impact of discounts by giving more importance to higher-priced items.\n",
        "\n",
        "weighted_discounts = df.groupby('Order ID').apply(WeightedDiscountRate).reset_index(name='Weighted Discount Rate')"
      ],
      "metadata": {
        "id": "6iB9BifR4oDT"
      },
      "execution_count": null,
      "outputs": []
    },
    {
      "cell_type": "code",
      "source": [
        "# Merging with original dataframe to add Weighted Discount column in the original data\n",
        "\n",
        "df_wd = df.merge(weighted_discounts, on='Order ID')"
      ],
      "metadata": {
        "id": "oSaZb2Oq8lj8"
      },
      "execution_count": null,
      "outputs": []
    },
    {
      "cell_type": "code",
      "source": [
        "# Dataframe with Unique Order IDs and product category within an order recorded within the same row\n",
        "\n",
        "df_grouped  = df.groupby('Order ID').agg({\n",
        "    'Order Date': 'first',\n",
        "    'Ship Date': 'first',\n",
        "    'Ship Mode': 'first',\n",
        "    'Customer ID': 'first',\n",
        "    'Customer Name': 'first',\n",
        "    'Segment': 'first',\n",
        "    'City': 'first',\n",
        "    'State': 'first',\n",
        "    'Postal Code': 'first',\n",
        "    'Region': 'first',\n",
        "    'Category': list,\n",
        "    'Sales': 'sum',\n",
        "    'Profit':'sum',\n",
        "    'Cost':'sum',\n",
        "    'Delay': 'first',\n",
        "    'Quarter':'first',\n",
        "    'Year':'first',\n",
        "    'Month':'first',\n",
        "    'PreDiscountSales':'sum'\n",
        "  }).reset_index()"
      ],
      "metadata": {
        "id": "8eAjJ9o8G2At"
      },
      "execution_count": null,
      "outputs": []
    },
    {
      "cell_type": "code",
      "source": [
        "# Adding Profit Margin column\n",
        "\n",
        "df_grouped['Profit Margin'] = (df_grouped['Profit']/df_grouped['Sales'])*100"
      ],
      "metadata": {
        "id": "Qkks-2L8Lrv-"
      },
      "execution_count": null,
      "outputs": []
    },
    {
      "cell_type": "code",
      "source": [
        "# Adding label for x-tick\n",
        "\n",
        "df_grouped['Year-Quarter'] = df_grouped['Year'].astype(str) + '-' + df_grouped['Quarter']"
      ],
      "metadata": {
        "id": "tBtiQeBBMMIz"
      },
      "execution_count": null,
      "outputs": []
    },
    {
      "cell_type": "code",
      "source": [
        "# Sort values by time\n",
        "\n",
        "df_grouped = df_grouped.sort_values(['Year', 'Quarter'])"
      ],
      "metadata": {
        "id": "1s8qoeklQR0G"
      },
      "execution_count": null,
      "outputs": []
    },
    {
      "cell_type": "code",
      "source": [
        "# Filtering 2017 data\n",
        "\n",
        "df_grouped_2017 = df_grouped.query(\"Year== 2017\").reset_index()"
      ],
      "metadata": {
        "id": "lWN94cUDSnbV"
      },
      "execution_count": null,
      "outputs": []
    },
    {
      "cell_type": "code",
      "source": [
        "# Dropping index column\n",
        "\n",
        "df_grouped_2017 = df_grouped_2017.drop(columns='index', axis=0)"
      ],
      "metadata": {
        "id": "eTwkmS4bdx96"
      },
      "execution_count": null,
      "outputs": []
    },
    {
      "cell_type": "code",
      "source": [
        "# Canvas Size\n",
        "plt.figure(figsize=(12, 6))\n",
        "\n",
        "# Plot graph\n",
        "sns.lineplot(data = df_grouped, x= df_grouped['Year-Quarter'], y= df_grouped['Profit Margin'], hue='Region',marker='o', linestyle='--', color= '#87b87e',\n",
        "            style = 'Segment',errorbar = None, estimator=\"mean\")\n",
        "\n",
        "# Customizing the plot\n",
        "plt.xlabel('')\n",
        "plt.ylabel('Profit Margin (%)')\n",
        "plt.title(\"Average Quarterly Profit Margin Trends (2014-2017)\", fontsize=11)\n",
        "plt.xticks(rotation=45)\n",
        "plt.grid(True, linestyle='--', alpha=0.2)\n",
        "\n",
        "\n",
        "# Show the plot\n",
        "plt.legend(bbox_to_anchor=(1, 0.9))\n",
        "plt.tight_layout()\n",
        "plt.show()"
      ],
      "metadata": {
        "id": "POEQv9yZLow6"
      },
      "execution_count": null,
      "outputs": []
    },
    {
      "cell_type": "code",
      "source": [
        "# Canvas Size\n",
        "plt.figure(figsize=(12, 6))\n",
        "\n",
        "# Plot graph\n",
        "sns.lineplot(data = df_grouped_2017, x= df_grouped_2017['Quarter'], y= df_grouped_2017['Profit Margin'], hue='Region',marker='o', linestyle='--', color= '#87b87e',\n",
        "            style = 'Segment',errorbar = None,  estimator=\"mean\")\n",
        "\n",
        "# Customizing the plot\n",
        "plt.xlabel('')\n",
        "plt.ylabel('Profit Margin (%)')\n",
        "plt.title(\"Average Quarterly Profit Margin Trends (2017)\", fontsize=11)\n",
        "plt.xticks(rotation=45)\n",
        "plt.grid(True, linestyle='--', alpha=0.2)\n",
        "\n",
        "\n",
        "# Show the plot\n",
        "plt.legend(bbox_to_anchor=(1, 0.9))\n",
        "plt.tight_layout()\n",
        "plt.show()"
      ],
      "metadata": {
        "id": "r6lhMnoZTjUb"
      },
      "execution_count": null,
      "outputs": []
    },
    {
      "cell_type": "markdown",
      "source": [
        "<font size=\"3\">\n",
        "\n",
        "- The steepest drop in average profit margin from Q3 to Q4 of 2017 is observed in Consumer segment in Central region (-3% to -17.6%), and Home Office segment in South region (19% to 3%).\n",
        "- The superstore may consider further investigating the driver(s) behind this poor performance in these specific demographics:\n",
        "  - were there cost spikes from manufacturers or logistic partners that eat up major chunk of profit. Example: A hurricane in the South (e.g., Hurricane Harvey in Aug 2017 in Texas and Louisiana) could have disrupted logistics, increasing freight costs.\n",
        "  - were heavy discounts run in last quarter of 2017 for these segments?\n",
        "  - did Q4 sales in these demographics skew towards low-margin items?\n",
        "\n",
        "\n",
        "</font>"
      ],
      "metadata": {
        "id": "EAumMKwklnI6"
      }
    },
    {
      "cell_type": "code",
      "source": [
        "# Profit Margin in each quarter of 2017 across regions and customer segments\n",
        "\n",
        "df_grouped_2017.groupby(['Quarter', 'Region', 'Segment'])['Profit Margin'].median()"
      ],
      "metadata": {
        "id": "-PlzprEWkRKW"
      },
      "execution_count": null,
      "outputs": []
    },
    {
      "cell_type": "code",
      "source": [
        "df_grouped_2017['Profit Margin'].describe()"
      ],
      "metadata": {
        "id": "ps8E7qGvk9yz"
      },
      "execution_count": null,
      "outputs": []
    },
    {
      "cell_type": "code",
      "source": [
        "# Ungrouped 2017 data\n",
        "\n",
        "df_2017 = df.query(\"Year== 2017\").reset_index()"
      ],
      "metadata": {
        "id": "pdd5s6FT5RSK"
      },
      "execution_count": null,
      "outputs": []
    },
    {
      "cell_type": "code",
      "source": [
        "# Adding Gross Sales column\n",
        "\n",
        "df_2017['PreDiscountSales'] = df_2017['Sales'] / (1 - df_2017['Discount'])"
      ],
      "metadata": {
        "id": "mFeXXgay3DHV"
      },
      "execution_count": null,
      "outputs": []
    },
    {
      "cell_type": "code",
      "source": [
        "# 2017 data on per order basis (including Weighted Discount column)\n",
        "\n",
        "df_2017_weighted_discount = df_2017.groupby('Order ID').apply(\n",
        "        lambda x: pd.Series({\n",
        "        'Sales': x['Sales'].sum(),\n",
        "        'PreDiscountSales': x['PreDiscountSales'].sum(),\n",
        "        'Profit': x['Profit'].sum(),\n",
        "        'WeightedDiscountRate': (x['Discount'] * x['PreDiscountSales']).sum() / x['PreDiscountSales'].sum(),\n",
        "        'Region' :x['Region'].iloc[0],\n",
        "        'Segment': x['Segment'].iloc[0],\n",
        "        'Quarter': x['Quarter'].iloc[0]\n",
        "    })\n",
        ").reset_index()"
      ],
      "metadata": {
        "id": "B7GTshNZ19to"
      },
      "execution_count": null,
      "outputs": []
    },
    {
      "cell_type": "code",
      "source": [
        "# Adding Profit Margin column\n",
        "\n",
        "df_2017_weighted_discount['Profit Margin'] = (df_2017_weighted_discount['Profit']/df_2017_weighted_discount['Sales'])*100"
      ],
      "metadata": {
        "id": "fDdrC4-119yl"
      },
      "execution_count": null,
      "outputs": []
    },
    {
      "cell_type": "code",
      "source": [
        "# Correlation analysis of profit margin and weighted discount rates in 2017 (all regions):\n",
        "\n",
        "corr_matrix = df_2017_weighted_discount.corr(numeric_only = True)\n",
        "\n",
        "corr_matrix\n",
        "\n",
        "# high negative (-0.86) correlation exist between profit margin and weighted discount rate in 2017."
      ],
      "metadata": {
        "id": "BeBOjTxbraaa"
      },
      "execution_count": null,
      "outputs": []
    },
    {
      "cell_type": "code",
      "source": [
        "# 2017 Q4 data of South and Central regions\n",
        "\n",
        "df_2017_weighted_discount_south_central_Q4 = df_2017_weighted_discount[(df_2017_weighted_discount['Region'].isin(\n",
        "    ['South','Central'])) & (df_2017_weighted_discount['Quarter'] == 'Q4')]"
      ],
      "metadata": {
        "id": "2umEZF7U-AfZ"
      },
      "execution_count": null,
      "outputs": []
    },
    {
      "cell_type": "code",
      "source": [
        "# Correlation analysis of profit margin and weighted discount rates in 2017 (Q4), only South and Central regions:\n",
        "\n",
        "corr_matrix_2 = df_2017_weighted_discount_south_central_Q4.corr(numeric_only = True)\n",
        "corr_matrix_2"
      ],
      "metadata": {
        "id": "HrFn17Jj-Vaw"
      },
      "execution_count": null,
      "outputs": []
    },
    {
      "cell_type": "code",
      "source": [
        "# Profit Margin vs Weighted Discount Rate (South & Central Regions, Q4 2017)\n",
        "\n",
        "# Plot Graph\n",
        "g = sns.lmplot(                                 # combines regplot() and FacetGrid\n",
        "    data= df_2017_weighted_discount_south_central_Q4,\n",
        "    x='WeightedDiscountRate',\n",
        "    y='Profit Margin',\n",
        "    hue = 'Segment',\n",
        "    col='Region',\n",
        "    height=6,\n",
        "    ci= None,\n",
        "    palette = 'gist_stern'\n",
        ")\n",
        "\n",
        "# Customizing Plot\n",
        "g.fig.suptitle(\"Profit Margin by Weighted Discount Rate (Q4, 2017)\", fontsize=12)\n",
        "g.fig.subplots_adjust(top=0.89)\n",
        "g.set_axis_labels(\"Weighted Discount Rate\", \"Profit Margin (%)\")\n",
        "\n",
        "# Display Plot\n",
        "plt.show()"
      ],
      "metadata": {
        "id": "VaVkD0N9racs"
      },
      "execution_count": null,
      "outputs": []
    },
    {
      "cell_type": "markdown",
      "source": [
        "<font size=\"3\">\n",
        "It can be concluded that:\n",
        "\n",
        "- The profit margin drop in Central region has been due to high discounts (60%-80%) given to Consumer segment in the last quarter of 2017 as can be observed in the plot and high negative correlation of -0.88.\n",
        "- In South region, the discounts given to Home Office segment  have ranged between 0-20% with only a couple of orders that have been discounted more than 50%. This indicates that the profit margin has been impacted by other factors such as costs/sale of low margin products.  \n",
        "\n",
        "\n",
        "</font>"
      ],
      "metadata": {
        "id": "Gw5X5ToaDrh9"
      }
    },
    {
      "cell_type": "markdown",
      "source": [
        "######  **Time (Month/Year) + Category vs Profit**: Analyze time-based trends in category-level performance"
      ],
      "metadata": {
        "id": "M37b00fnaIkF"
      }
    },
    {
      "cell_type": "code",
      "source": [
        "# Profit and Sales across each month by Product Category\n",
        "\n",
        "month_category = df.groupby(['Year','Month', 'Category'])[['Profit','Sales']].sum().reset_index()"
      ],
      "metadata": {
        "id": "cum_sGmdG1zT"
      },
      "execution_count": null,
      "outputs": []
    },
    {
      "cell_type": "code",
      "source": [
        "# Filtering data for 2016 and 2017\n",
        "\n",
        "month_category = month_category[month_category['Year'].between(2016, 2017)].reset_index()\n",
        "month_category = month_category.drop(columns = 'index', axis=0)"
      ],
      "metadata": {
        "id": "wQE9zGhXhkLN"
      },
      "execution_count": null,
      "outputs": []
    },
    {
      "cell_type": "code",
      "source": [
        "# Label for xtick\n",
        "\n",
        "month_category['Month-Year'] =  month_category['Month'].astype(str) + '-' + month_category['Year'].astype(str)"
      ],
      "metadata": {
        "id": "L4CJdF36c7I4"
      },
      "execution_count": null,
      "outputs": []
    },
    {
      "cell_type": "code",
      "source": [
        "# Sort values by time\n",
        "\n",
        "month_category = month_category.sort_values(['Year', 'Month'])"
      ],
      "metadata": {
        "id": "Q9ZvnjlZcazL"
      },
      "execution_count": null,
      "outputs": []
    },
    {
      "cell_type": "code",
      "source": [
        "# Set Canvas size\n",
        "plt.figure(figsize=(12, 6))\n",
        "\n",
        "# Plot graph\n",
        "sns.lineplot(data = month_category, x= month_category['Month-Year'], y= month_category['Profit'], hue='Category',marker='o', linestyle='--',\n",
        "            errorbar = None,  estimator=\"mean\", palette = 'Set2')\n",
        "\n",
        "# Customizing the plot\n",
        "plt.xlabel('')\n",
        "plt.ylabel('Profit ($)')\n",
        "plt.title(\"Average Monthly Profit Trends by Category (2016-2017)\", fontsize=11)\n",
        "plt.xticks(rotation=45)\n",
        "plt.grid(True, linestyle='--', alpha=0.2)\n",
        "\n",
        "# Show the plot\n",
        "plt.legend(bbox_to_anchor=(1, 0.9))\n",
        "plt.tight_layout()\n",
        "plt.show()"
      ],
      "metadata": {
        "id": "YnedSaH-HOj0"
      },
      "execution_count": null,
      "outputs": []
    },
    {
      "cell_type": "markdown",
      "source": [
        "<font size=\"3\">\n",
        "It is observed that:\n",
        "\n",
        "- Over the last two years, furniture items have comparatively yielded lesser profits  ranging between &#36;-2500 and &#36;2800.\n",
        "- Although technology is a high profit yielding category but is also the most volatile, where some months especially Oct 2016 and Mar 2017 had record profit of &#36;11,700 and &#36;11,000 respectively. Nov 2016 and Apr 2017 however, dented the superstore bearing losses of &#36;1500 and &#36;2600 respectively.\n",
        "- Office Supplies profits have also been generally on the rise, with Dec 2016 bringing in highest profit of approx &#36;11,460.\n",
        "- Over the last couple of months, the profits for technology and office supply items have dropped while that of furniture has risen.   \n",
        "\n",
        "\n",
        "</font>"
      ],
      "metadata": {
        "id": "UUqt7uy_mMw0"
      }
    },
    {
      "cell_type": "code",
      "source": [
        "# Profit distribution across Product Category\n",
        "\n",
        "month_category.groupby('Category')['Profit'].describe()"
      ],
      "metadata": {
        "id": "39IbOZ38mxkZ"
      },
      "execution_count": null,
      "outputs": []
    },
    {
      "cell_type": "code",
      "source": [
        "# Monthly Profit across Product Categories for 2016 and 2017\n",
        "\n",
        "X = month_category.groupby(['Month-Year', 'Category'])['Profit'].mean()"
      ],
      "metadata": {
        "id": "7FTbKVemlI8Y"
      },
      "execution_count": null,
      "outputs": []
    },
    {
      "cell_type": "code",
      "source": [
        "print(X)"
      ],
      "metadata": {
        "id": "nHpJ_UkbtPDi"
      },
      "execution_count": null,
      "outputs": []
    },
    {
      "cell_type": "code",
      "source": [
        "# Total Cost, Profit and Sales across Sub-categories of Office Supply items in Q4, 2017\n",
        "\n",
        "month_subcategory = df[(df['Year'] == 2017) & (df['Quarter'] == 'Q4') & (df['Category'] == 'Office Supplies')].groupby(['Month', 'Sub-Category'])[['Profit','Sales','Cost']].sum().reset_index().sort_values('Month')"
      ],
      "metadata": {
        "id": "1YeAT3yEybFy"
      },
      "execution_count": null,
      "outputs": []
    },
    {
      "cell_type": "code",
      "source": [
        "# Adding Profit Margin column\n",
        "\n",
        "month_subcategory['Profit Margin'] = (month_subcategory['Profit']/month_subcategory['Sales'])*100"
      ],
      "metadata": {
        "id": "TYwvwZaH1PG8"
      },
      "execution_count": null,
      "outputs": []
    },
    {
      "cell_type": "code",
      "source": [
        "# Average Profit Margin by Sub-Category of Office Supply items for Q4 of 2017\n",
        "\n",
        "#Barplot\n",
        "fig, axes = plt.subplots(nrows=3,ncols =1 ,figsize=(8,15))\n",
        "\n",
        "#first plot: profit margin\n",
        "\n",
        "# plot graph\n",
        "ax1 = sns.barplot(month_subcategory, x = 'Sub-Category', y = 'Profit Margin', estimator='mean',errorbar= None, ax=axes[0], palette = 'Set2')\n",
        "\n",
        "# annotate data labels\n",
        "for p in ax1.patches:\n",
        "    ax1.annotate(\n",
        "        format(p.get_height(), '.1f'),  # format height to 1 decimal\n",
        "        (p.get_x() + p.get_width() / 2., p.get_height()),  # position at center of bar\n",
        "        ha = 'center',  # horizontal alignment\n",
        "        va = 'bottom',  # vertical alignment\n",
        "        fontsize=10,\n",
        "        color='black',\n",
        "        xytext=(0, 1),  # small shift up\n",
        "        textcoords='offset points'\n",
        "    )\n",
        "\n",
        "# Customize plot\n",
        "axes[0].set_xlabel('')\n",
        "axes[0].set_ylabel('Profit Margin (%)')\n",
        "axes[0].set_title(\"Average Monthly Profit Margin Trends by Sub-Category (Q4 2017)\", fontsize=11)\n",
        "axes[0].tick_params(axis='x', labelrotation=45)\n",
        "\n",
        "#second plot: sales\n",
        "ax2 = sns.barplot(month_subcategory, x = 'Sub-Category', y = 'Sales', estimator='mean',errorbar= None, ax=axes[1],palette = 'Set2')\n",
        "\n",
        "for p in ax2.patches:\n",
        "    ax2.annotate(\n",
        "        format(p.get_height(), '.1f'),  # format height to 1 decimal\n",
        "        (p.get_x() + p.get_width() / 2., p.get_height()),  # position at center of bar\n",
        "        ha = 'center',  # horizontal alignment\n",
        "        va = 'bottom',  # vertical alignment\n",
        "        fontsize=10,\n",
        "        color='black',\n",
        "        xytext=(0, 1),  # small shift up\n",
        "        textcoords='offset points'\n",
        "    )\n",
        "axes[1].set_xlabel('')\n",
        "axes[1].set_ylabel('Sales ($)')\n",
        "axes[1].set_title(\"Average Monthly Sales Trends by Sub-Category (Q4 2017)\", fontsize=11)\n",
        "axes[1].tick_params(axis='x', labelrotation=45)\n",
        "\n",
        "#third plot: profit\n",
        "ax3 = sns.barplot(month_subcategory, x = 'Sub-Category', y = 'Profit', estimator='mean',errorbar= None, ax=axes[2],palette = 'Set2')\n",
        "\n",
        "for p in ax3.patches:\n",
        "    ax3.annotate(\n",
        "        format(p.get_height(), '.1f'),  # format height to 1 decimal\n",
        "        (p.get_x() + p.get_width() / 2., p.get_height()),  # position at center of bar\n",
        "        ha = 'center',  # horizontal alignment\n",
        "        va = 'bottom',  # vertical alignment\n",
        "        fontsize=10,\n",
        "        color='black',\n",
        "        xytext=(0, 1),  # small shift up\n",
        "        textcoords='offset points'\n",
        "    )\n",
        "axes[2].set_xlabel('')\n",
        "axes[2].set_ylabel('Profit ($)')\n",
        "axes[2].set_title(\"Average Monthly Profit Trends by Sub-Category (Q4 2017)\", fontsize=11)\n",
        "axes[2].tick_params(axis='x', labelrotation=45)\n",
        "\n",
        "# Display plots\n",
        "plt.tight_layout()\n",
        "plt.show()"
      ],
      "metadata": {
        "id": "l9g1g0tQra8O"
      },
      "execution_count": null,
      "outputs": []
    },
    {
      "cell_type": "markdown",
      "source": [
        "- The drop in Office Supplies profit margin in Dec 2017 is specifically due to Binders which despite second highest sales in Q4 has caused superstore to loose approx &#36;700.\n",
        "- Considering Binders is low profit margin sub-category, the superstore needs to see whether it was caused by internal decisions such as heavy discounting to clear year-end inventory (in which case the low profit margin would have been anticipated) or externals factors influenced it such as Hurricane Harvey in Aug 2017 or costs spike by shipping carriers."
      ],
      "metadata": {
        "id": "2NnKrQRI4sFE"
      }
    },
    {
      "cell_type": "markdown",
      "source": [
        "######**Category + Discount vs Profit**: Analyze how discounts affect profitability across categories"
      ],
      "metadata": {
        "id": "6WHawAFJmEei"
      }
    },
    {
      "cell_type": "code",
      "source": [
        "# Adding Profit Margin column\n",
        "\n",
        "df_wd['Profit Margin'] = (df_wd['Profit']/df_wd['Sales'])*100"
      ],
      "metadata": {
        "id": "J6b_To_YHwNZ"
      },
      "execution_count": null,
      "outputs": []
    },
    {
      "cell_type": "code",
      "source": [
        "# Profit vs Weighted Discount Rate across Category\n",
        "\n",
        "# plot graph\n",
        "g = sns.lmplot(\n",
        "    data= df_wd ,\n",
        "    x='Weighted Discount Rate',\n",
        "    y='Profit',\n",
        "    col='Category',\n",
        "    height=6,\n",
        "    ci= None,\n",
        "    palette = 'gist_stern',\n",
        "    scatter_kws={'alpha': 0.6}\n",
        ")\n",
        "\n",
        "# customize plot\n",
        "g.fig.suptitle(\"Profit by Weighted Discount Rate\", fontsize=10)\n",
        "g.fig.subplots_adjust(top=0.89)\n",
        "g.set_axis_labels(\"Weighted Discount Rate\", \"Profit ($)\")\n",
        "\n",
        "# display plot\n",
        "plt.show()"
      ],
      "metadata": {
        "id": "8dzr0qRVs3RN"
      },
      "execution_count": null,
      "outputs": []
    },
    {
      "cell_type": "markdown",
      "source": [
        " - Technology is most sensitive to discounts, while furniture and office supplies appear less affected overall.\n",
        " - Technology category displays a noticeable negative trend in its regression line.  Higher discounts in this category appear to have a more direct and negative impact on profitability compared to furniture and office supplies because technology products have higher COGS hence thinner profit margins.\n",
        " - Technology has higher price elasticity of demand (a larger change in quantity demanded for a given change in price): hence although higher discounts trigger larger sale spikes but erodes the profit due to thin profit margins.\n",
        " - Due to rapid tech innovation and new models being released, the seller is compelled to offer higher discounts to prevent inventory write-offs on old models. Furniture items are bought primarily for convenience/quality over price hence last longer reducing pressure to discount for clearance.\n",
        " - Tech consumers are price-sensitive due to online price comparasions and delay purchase in favor of significant discounts which slash profits as time passes. The outliers at high discount portrays such bargain hunters.\n",
        "\n",
        "**Recommendation:**\n",
        " - different discounting strategies is necessary for different product categories to optimize profitability.\n",
        " - for tech products:\n",
        "  - Cap discounts at 10–15% and bundle with services (e.g., warranties).\n",
        "  - Use time-bound promotions (e.g., \"48-hour flash sale\") to limit margin erosion.\n",
        "\n",
        "- for Furniture and Office Supplies:\n",
        "  - Leverage discounts to drive volume (high margins can absorb it)."
      ],
      "metadata": {
        "id": "rwZHsO3oK2My"
      }
    },
    {
      "cell_type": "markdown",
      "source": [
        "######**Segment + Ship Mode vs Sales/Profit**: Understand how different segments use shipping methods and their associated performance."
      ],
      "metadata": {
        "id": "9kn07dFPZX_D"
      }
    },
    {
      "cell_type": "code",
      "source": [
        "a = (per_transaction.merge(order_region_segment, on='Order ID')).drop(columns = ['Total_Sales_x', 'Total_Profit_x', 'Total_Cost','Profit Margin_x', 'Total_Sales_y','Total_Profit_y', 'Profit Margin_y'], axis=1)"
      ],
      "metadata": {
        "id": "ckbgshZEfV7v"
      },
      "execution_count": null,
      "outputs": []
    },
    {
      "cell_type": "code",
      "source": [
        "merged_data = a.merge(df.groupby('Order ID').agg(Sales=('Sales', 'sum'),Profit=('Profit', 'sum'),Cost = ('Cost', 'sum') ).reset_index(), on='Order ID')"
      ],
      "metadata": {
        "id": "jgFwUwz0cjzP"
      },
      "execution_count": null,
      "outputs": []
    },
    {
      "cell_type": "code",
      "source": [
        "profit_by_segment_shipmode = merged_data.pivot_table(index='Segment', columns='Ship Mode', values='Profit', aggfunc = 'mean')"
      ],
      "metadata": {
        "id": "pXyDXaZuPWf7"
      },
      "execution_count": null,
      "outputs": []
    },
    {
      "cell_type": "code",
      "source": [
        "# Mean Profit Per Order/Transaction across Segments and Ship mode\n",
        "\n",
        "plt.figure(dpi=100)\n",
        "\n",
        "sns.heatmap(profit_by_segment_shipmode, linewidth=0.6, annot= True, cmap = 'viridis',fmt=\".1f\")\n",
        "\n",
        "plt.show()"
      ],
      "metadata": {
        "id": "CSwedgdxHz1U"
      },
      "execution_count": null,
      "outputs": []
    },
    {
      "cell_type": "markdown",
      "source": [
        "- In home office segment, significantly large profit is earned by first class shipping and significantly low by standard shipping.\n",
        "- In corporate segment, same day shipping yeilds significantly lower profits while other ship modes yield comparable profits.\n",
        "- In consumer segment, second class and standard class shipping yields lowest mean profit  while same day shipping yields relatively higher profit."
      ],
      "metadata": {
        "id": "OlDo24Cuh5fg"
      }
    },
    {
      "cell_type": "markdown",
      "source": [
        "######**Region + Ship Mode vs Profit**: Analyze if some shipping modes are more efficient/profitable in certain regions\n"
      ],
      "metadata": {
        "id": "xr1Gxe3Ptsb7"
      }
    },
    {
      "cell_type": "code",
      "source": [
        "profit_by_region_shipmode = merged_data.pivot_table(index='Region', columns='Ship Mode', values='Profit', aggfunc = 'mean')"
      ],
      "metadata": {
        "id": "tqv0sF8aHz3Z"
      },
      "execution_count": null,
      "outputs": []
    },
    {
      "cell_type": "code",
      "source": [
        "# Frequency of orders using each ship mode type across regions\n",
        "\n",
        "merged_data.pivot_table(index='Region', columns='Ship Mode', values='Order ID', aggfunc = 'count')"
      ],
      "metadata": {
        "id": "ihDOg9Pzuu6w"
      },
      "execution_count": null,
      "outputs": []
    },
    {
      "cell_type": "code",
      "source": [
        "# Mean Profit Per Order/Transaction across Regions and Ship mode\n",
        "\n",
        "plt.figure(dpi=100)\n",
        "\n",
        "sns.heatmap(profit_by_region_shipmode, linewidth=0.6, annot= True, cmap = 'viridis',fmt=\".1f\")\n",
        "\n",
        "plt.show()"
      ],
      "metadata": {
        "id": "QxIgnDOyuCAZ"
      },
      "execution_count": null,
      "outputs": []
    },
    {
      "cell_type": "markdown",
      "source": [
        "- In West region, same day shipping yields significantly high profit while standard shipping brings in lowest mean profit per transaction.\n",
        "- In South region, same day shipping has caused significant loss, on average the superstore loses &#36;45 per order that is shipped same day. Second class shipping is highest profit yielding in the region.\n",
        "- In East region, same day shipping earns the highest average profit across board i.e. approx &#36;108 per transaction while second class shipping yields lower profits.\n",
        "- In Central region, the profits are generally on the lower side, with first class and same day shipping yielding lowest avg profits per order across the board.  "
      ],
      "metadata": {
        "id": "GSGC4EIduMpu"
      }
    },
    {
      "cell_type": "markdown",
      "source": [
        "######**Sub-Category + Region vs Profit (or Profit Margin)** : Find which sub-categories are strong in each region\n"
      ],
      "metadata": {
        "id": "tEWUybatBFrs"
      }
    },
    {
      "cell_type": "code",
      "source": [
        "# Sales, Profit and Cost across each Region and Product Sub-Category\n",
        "\n",
        "subcategory_region = df.groupby(['Region','Sub-Category'])[['Profit','Sales','Cost']].sum().reset_index()"
      ],
      "metadata": {
        "id": "SV-6XjQMxC0e"
      },
      "execution_count": null,
      "outputs": []
    },
    {
      "cell_type": "code",
      "source": [
        "# Adding profit margin column\n",
        "\n",
        "subcategory_region['Profit Margin'] = (subcategory_region['Profit'] / subcategory_region['Sales']) * 100"
      ],
      "metadata": {
        "id": "29kdUwZdxC2_"
      },
      "execution_count": null,
      "outputs": []
    },
    {
      "cell_type": "code",
      "source": [
        "# Sort values by Profit Margin within each Region\n",
        "\n",
        "subcategory_region = subcategory_region.sort_values(by = ['Region','Profit Margin'], ascending=[True, False], axis=0)"
      ],
      "metadata": {
        "id": "51c6Gw-YFo-3"
      },
      "execution_count": null,
      "outputs": []
    },
    {
      "cell_type": "code",
      "source": [
        "#Top 3 performing sub-categories in each region\n",
        "\n",
        "subcategory_region.groupby('Region').head(3).sort_values(by = ['Region','Profit Margin'], ascending=[True, False], axis=0)"
      ],
      "metadata": {
        "id": "G4cENdvBFpBn"
      },
      "execution_count": null,
      "outputs": []
    },
    {
      "cell_type": "markdown",
      "source": [
        "- Labels, Paper, Envelopes are sub-categories with the highest profit margin across all regions.\n",
        "- Envelopes is sub-category with the highest profit margin of 46% across board.\n",
        "- In Central and South regions, labels have highest profit margin of approx 44%.\n",
        "- In East region, the sub-category with largest profit margin is paper, approx 45%.\n",
        "- In West region, envelopes have the largest profit margin of approx 46%.\n"
      ],
      "metadata": {
        "id": "Tu2juOjWJUNm"
      }
    },
    {
      "cell_type": "markdown",
      "source": [
        "######**Pairplot of Sales, Profit, Discount, and Quantity (Colored by Segment or Category)**\n"
      ],
      "metadata": {
        "id": "tys7TUqkNchN"
      }
    },
    {
      "cell_type": "code",
      "source": [
        "filtered_data = df[['Sales', 'Profit', 'Discount', 'Quantity','Segment','Category']]"
      ],
      "metadata": {
        "id": "bYgnhOhiRYtt"
      },
      "execution_count": null,
      "outputs": []
    },
    {
      "cell_type": "code",
      "source": [
        "#pairplot\n",
        "plt.figure(figsize =(10,6))\n",
        "\n",
        "sns.pairplot(filtered_data, hue = 'Category', corner=True, markers=[\"s\", \"D\",\"o\"], plot_kws={'s': 20, 'alpha':0.5}, diag_kind = 'kde' ) #DIAGNOL SHOW KDE PLOT\n",
        "\n",
        "plt.show()"
      ],
      "metadata": {
        "id": "nTxIeDnWNfLA"
      },
      "execution_count": null,
      "outputs": []
    },
    {
      "cell_type": "markdown",
      "source": [
        "##  Correlation Analysis"
      ],
      "metadata": {
        "id": "2n0OgdrxVz7s"
      }
    },
    {
      "cell_type": "code",
      "source": [
        "corr_matrix = df.corr(numeric_only = True)"
      ],
      "metadata": {
        "id": "E0KohapfNfNy"
      },
      "execution_count": null,
      "outputs": []
    },
    {
      "cell_type": "code",
      "source": [
        "sns.heatmap(corr_matrix, annot = True)"
      ],
      "metadata": {
        "id": "jvTsXIF5NfkX"
      },
      "execution_count": null,
      "outputs": []
    },
    {
      "cell_type": "markdown",
      "source": [
        "- Profit and Sales are moderately correlated.\n",
        "- Gross Sales is highly correlated to Cost with pearson correlation coefficient of 0.98. This is expected since higher cost generally reflect in the sale price.\n",
        "- Rest of the numeric features have a weak correlation."
      ],
      "metadata": {
        "id": "std1yCYZn4Ac"
      }
    },
    {
      "cell_type": "markdown",
      "source": [
        "##  Conditional Analysis"
      ],
      "metadata": {
        "id": "y3TnEp6nzJJ0"
      }
    },
    {
      "cell_type": "markdown",
      "source": [
        "######**What are the average sales per segment across different regions?**"
      ],
      "metadata": {
        "id": "UOzBut6nzxgp"
      }
    },
    {
      "cell_type": "code",
      "source": [
        "# Regional Per Order/Transaction Sales Distribution by Segment across Regions\n",
        "\n",
        "pd.pivot_table(order_region_segment, values = 'Total_Sales', index = 'Segment', columns = 'Region', aggfunc = ['mean','median', 'sum'])"
      ],
      "metadata": {
        "id": "tv-V-8JUzLIy"
      },
      "execution_count": null,
      "outputs": []
    },
    {
      "cell_type": "markdown",
      "source": [
        "It is observed that:\n",
        "- Highest sales come from Consumer segment across all regions.\n",
        "- On average, least sales per order were observed in Central region for the Home Office Segment i.e. approx &#36;409 while highest average sales interestingly came from the same segment in South region (approx &#36;567) despite least number of orders i.e. 131 total orders. This high average basket value indicates demand of pricier items by Home Office customers in the South as opposed to Central region."
      ],
      "metadata": {
        "id": "bksJfC64-Xvz"
      }
    },
    {
      "cell_type": "code",
      "source": [
        "# Purchase Frequency of each Product Sub-Category by Home Office segment in South and Central regions\n",
        "\n",
        "df[(df['Segment']=='Home Office') & (df['Region'].isin(['South','Central']))].groupby(['Region','Sub-Category'])['Order ID'].count().sort_values(ascending=False)\n",
        "\n",
        "#Binders are most ordered by Home Office segment in South region and Central Region."
      ],
      "metadata": {
        "id": "wOd0JJeg3aAp"
      },
      "execution_count": null,
      "outputs": []
    },
    {
      "cell_type": "code",
      "source": [
        "# Unique Order ID data\n",
        "\n",
        "unique_orders = df.drop_duplicates(subset=[\"Order ID\"], keep='first').reset_index(drop = True)"
      ],
      "metadata": {
        "id": "HzkfokWFKW1B"
      },
      "execution_count": null,
      "outputs": []
    },
    {
      "cell_type": "code",
      "source": [
        "# Order frequency of each ship mode used by Home Office segment in the South region\n",
        "\n",
        "unique_orders[(unique_orders['Segment']=='Home Office') & (unique_orders['Region'] == 'South')]['Ship Mode'].value_counts()"
      ],
      "metadata": {
        "id": "5BDtLVNOEXt_"
      },
      "execution_count": null,
      "outputs": []
    },
    {
      "cell_type": "markdown",
      "source": [
        " - In South region: binders, papers and furnishings are the most purchased sub-categories by Home office customers. Since this demographic also used standard shipping for most orders which is expected to be the least expensive option (negating the possibility of shipping fees raising AOV), the higher average basket value can be credited to purchase of furnishings due to it's higher comparative price.   "
      ],
      "metadata": {
        "id": "3pufWsuJLz-9"
      }
    },
    {
      "cell_type": "markdown",
      "source": [
        "######**How does discount level affect profitability across different categories?**"
      ],
      "metadata": {
        "id": "o8iWGwUaOUjB"
      }
    },
    {
      "cell_type": "code",
      "source": [
        "# Discount vs Profit Margin\n",
        "\n",
        "# set canvas size\n",
        "plt.figure(figsize=(6, 4))\n",
        "\n",
        "# plot graph\n",
        "hb = plt.hexbin(\n",
        "    x=df_wd['Discount'],\n",
        "    y=df_wd['Profit Margin'],\n",
        "    gridsize=30,\n",
        "    cmap='viridis',\n",
        "    mincnt=1\n",
        ")\n",
        "\n",
        "# customize plot\n",
        "plt.colorbar(hb, label='Count')\n",
        "plt.xlabel('Discount')\n",
        "plt.ylabel('Profit Margin (%)')\n",
        "plt.title('Discount vs Profit Margin', fontsize=11)\n",
        "plt.grid(True, linestyle='--', alpha=0.3)\n",
        "\n",
        "# display plot\n",
        "plt.tight_layout()\n",
        "plt.show()"
      ],
      "metadata": {
        "id": "Ax1Agc0sOpxN"
      },
      "execution_count": null,
      "outputs": []
    },
    {
      "cell_type": "code",
      "source": [
        "# Discount vs Profit Margin aross Product Categories\n",
        "\n",
        "categories = df_wd['Category'].unique()\n",
        "n = len(categories)\n",
        "\n",
        "#create subplots\n",
        "fig, axes = plt.subplots(1, n, figsize=(5 * n, 4), sharey=True)\n",
        "\n",
        "\n",
        "# plot graphs\n",
        "for i, cat in enumerate(categories):\n",
        "    ax = axes[i]\n",
        "    subset = df_wd[df_wd['Category'] == cat]\n",
        "    hb = ax.hexbin(\n",
        "        subset['Discount'], subset['Profit Margin'],\n",
        "        gridsize=30, cmap='viridis', mincnt=1\n",
        "    )\n",
        "    ax.set_title(cat, fontsize=11)\n",
        "    ax.set_xlabel(\"Discount\")\n",
        "    if i == 0:\n",
        "        ax.set_ylabel(\"Profit Margin (%)\")\n",
        "    fig.colorbar(hb, ax=ax, label='Count')\n",
        "\n",
        "# customize plot\n",
        "#mplcursors.cursor(hover=True)\n",
        "fig.suptitle(\"Discount vs Profit Margin by Category\", fontsize=12)\n",
        "\n",
        "# display plot\n",
        "plt.tight_layout()\n",
        "plt.show()"
      ],
      "metadata": {
        "id": "xBwAdFBXOptu"
      },
      "execution_count": null,
      "outputs": []
    },
    {
      "cell_type": "markdown",
      "source": [
        "**Guide to analyze hexbin plot**\n",
        "- Dense areas (bright spots) = most common discount–profit margin combos.\n",
        "- If high discounts cause negative margins, it's a red flag.\n",
        "- Some categories might tolerate discounts better due to higher markups.\n",
        "- Look for trends—does profit steadily drop as discount increases?\n",
        "- Look for sub-categories where higher discounts severely reduce profitability.\n",
        "- If you see very low or negative margins at high discounts, consider flagging them for discount policy review.\n",
        "- Patterns may differ across categories, helping target pricing strategies.\n",
        "- If you see clusters of high discount & low/negative margin, that’s a concern."
      ],
      "metadata": {
        "id": "t15zEa9KZfwD"
      }
    },
    {
      "cell_type": "markdown",
      "source": [
        "**Technology:**\n",
        "- Even with moderate to high discounts, profit margins generally stay positive\n",
        "which shows Technology category handles discounts better, maintaining reasonable margins even at discount levels of 40%-60%.\n",
        "\n",
        "**Furniture:**\n",
        "- As discounts increase, profit margins sharply decrease.\n",
        "- High discount levels (≥40%) frequently lead to significant losses (margins as low as -200%).\n",
        "\n",
        "**Office Supplies:**\n",
        "- Profit margins remain positive at low discounts but drop drastically at higher discounts (≥ 70%).\n",
        "- Most transactions cluster around 0–20% discounts, and high-discount instances correlate with large losses.\n",
        "- Cluster of high discounted orders (~80%) resulting in heavy losses (-150% to 250% margin) calls for immediate action.\n",
        "\n",
        "**Recommendations:**\n",
        "- Review discount policy: For furniture and office supply categories, discount levels should be capped at no higher than 20-25% to prevent significant losses, while higher discounts of upto 45-50% can be offered on technology products.\n",
        "- Product bundling or value-added offers can be offered for office supply items instead of flat discounts to drive demand while safeguarding profitability.\n",
        "- Technology products generally have higher markup which provides cushion to margins at higher discounts, hence leverage discount to boost sales volume for tech products.\n"
      ],
      "metadata": {
        "id": "UN66M227rH2z"
      }
    },
    {
      "cell_type": "markdown",
      "source": [
        "######**What percentage of high discount orders (>30%) result in negative profit?**\n"
      ],
      "metadata": {
        "id": "liSNaMyBOftY"
      }
    },
    {
      "cell_type": "code",
      "source": [
        "# Adding Profit column\n",
        "\n",
        "subset_profit_wd  = weighted_discounts.merge(df.groupby('Order ID')['Profit'].sum(), on = 'Order ID')"
      ],
      "metadata": {
        "id": "plPMzc1UzJft"
      },
      "execution_count": null,
      "outputs": []
    },
    {
      "cell_type": "code",
      "source": [
        "# Filtering high-discount orders\n",
        "\n",
        "df_high_discount = subset_profit_wd[subset_profit_wd['Weighted Discount Rate'] > 0.3].reset_index(drop=True)"
      ],
      "metadata": {
        "id": "e3DqVgKyOlJ4"
      },
      "execution_count": null,
      "outputs": []
    },
    {
      "cell_type": "code",
      "source": [
        "# Proportion of high-discount orders resulting in a loss or profit\n",
        "\n",
        "loss = df_high_discount[df_high_discount['Profit'] < 0].shape[0]   #664 high discount orders (>30%) result in loss\n",
        "profit = df_high_discount[df_high_discount['Profit'] > 0].shape[0] #51 high discount orders (>30%) result in profit\n",
        "\n",
        "print(f\"{(loss/df_high_discount.shape[0])*100:.1f}% of high discount orders (>30%) result in loss while only {(profit/df_high_discount.shape[0])*100:.1f}% result in profit.\")"
      ],
      "metadata": {
        "id": "lnLmM1UXOlM0"
      },
      "execution_count": null,
      "outputs": []
    },
    {
      "cell_type": "markdown",
      "source": [
        "- This signifies the need to reconsider the discount policy specifically across categories discussed earlier."
      ],
      "metadata": {
        "id": "rNzHFnK42GZm"
      }
    },
    {
      "cell_type": "markdown",
      "source": [
        "######**Which sub-categories have the highest loss percentage and highest profit percentge compared to sales i.e. highest and lowest profit margin?**"
      ],
      "metadata": {
        "id": "vxsEG2NdOfwa"
      }
    },
    {
      "cell_type": "code",
      "source": [
        "subcategory = df.groupby('Sub-Category')[['Profit', 'Sales', 'Cost']].sum().reset_index()\n",
        "\n",
        "# Filter only sub-categories with negative total profit\n",
        "loss_df = subcategory[subcategory ['Profit'] < 0]\n",
        "\n",
        "# Calculate Loss Percentage\n",
        "loss_df['Loss %'] = (-loss_df['Profit'] / loss_df['Sales']) * 100\n",
        "\n",
        "# Sort by Loss Percentage descending\n",
        "loss_df = loss_df.sort_values(by='Loss %', ascending=False)\n"
      ],
      "metadata": {
        "id": "7iaNDqH9OtAR"
      },
      "execution_count": null,
      "outputs": []
    },
    {
      "cell_type": "code",
      "source": [
        "# Display result\n",
        "\n",
        "loss_df.set_index('Sub-Category')"
      ],
      "metadata": {
        "id": "kl1xHHtQ8W4w"
      },
      "execution_count": null,
      "outputs": []
    },
    {
      "cell_type": "code",
      "source": [
        "# Filter only sub-categories with positive total profit\n",
        "profit_df = subcategory[subcategory['Profit'] > 0]\n",
        "\n",
        "# Calculate Profit Percentage\n",
        "profit_df['Profit %'] = (profit_df['Profit'] / profit_df['Sales']) * 100\n",
        "\n",
        "# Sort by Profit Percentage descending\n",
        "profit_df = profit_df.sort_values(by='Profit %', ascending=False)"
      ],
      "metadata": {
        "id": "4TgCx41vOtDw"
      },
      "execution_count": null,
      "outputs": []
    },
    {
      "cell_type": "code",
      "source": [
        "# Display result\n",
        "\n",
        "profit_df.set_index('Sub-Category').head(4)"
      ],
      "metadata": {
        "id": "4MvcSjqm8qUN"
      },
      "execution_count": null,
      "outputs": []
    },
    {
      "cell_type": "markdown",
      "source": [
        "- Tables, bookcases and supplies have the highest negative profit margin e.g, on average for every &#36;1 the store earns by selling tables, it loses &#36;0.086.\n",
        "- Labels, Papers and Envelopes have the highest profit margin e.g. on average the store earns &#36;0.44 on top of every &#36;1 earned by selling labels."
      ],
      "metadata": {
        "id": "3EFcaSNk-8_i"
      }
    },
    {
      "cell_type": "markdown",
      "source": [
        "######**What is the probability of receiving a profit/loss given a discount rate?**\n"
      ],
      "metadata": {
        "id": "pQ2sxlvyOfz1"
      }
    },
    {
      "cell_type": "code",
      "source": [
        "# Tag profit label\n",
        "\n",
        "df['Profit_Label'] = df['Profit'].apply(lambda x: 'Profit' if x > 0 else 'Loss')"
      ],
      "metadata": {
        "id": "mvfSeKLHQJi8"
      },
      "execution_count": null,
      "outputs": []
    },
    {
      "cell_type": "code",
      "source": [
        "# Creating dataframe for frequency of orders that made a profit/loss and total orders for each discount level\n",
        "\n",
        "profit_loss_by_discount = df.groupby(['Discount', 'Profit_Label'])['Order ID'].count().unstack().fillna(0).merge(\n",
        "    df.groupby('Discount')['Order ID'].count().rename('Total'), on = 'Discount')"
      ],
      "metadata": {
        "id": "1piUNYm-ajLe"
      },
      "execution_count": null,
      "outputs": []
    },
    {
      "cell_type": "code",
      "source": [
        "# Adding Profit/Loss Probability\n",
        "\n",
        "profit_loss_by_discount['Profit Probability (%)'] = ((profit_loss_by_discount['Profit']/profit_loss_by_discount['Total'])*100).round(2)\n",
        "profit_loss_by_discount['Loss Probability (%)'] = ((profit_loss_by_discount['Loss']/profit_loss_by_discount['Total'])*100).round(2)"
      ],
      "metadata": {
        "id": "ojNKvqNsbCeS"
      },
      "execution_count": null,
      "outputs": []
    },
    {
      "cell_type": "code",
      "source": [
        "# Display result\n",
        "\n",
        "profit_loss_by_discount"
      ],
      "metadata": {
        "id": "eHATAU1tbXDE"
      },
      "execution_count": null,
      "outputs": []
    },
    {
      "cell_type": "markdown",
      "source": [
        "The probability of receiving a profit/loss given a discount rate is as follows:\n",
        "\n",
        " - The probability of making a loss increases with discount rate generally.\n",
        " - 40% discount is the threshold beyond which (as a whole across all product categories) the superstore makes no profit, however, this can be further drilled down to flag specfic categories and sub-categories to be able to tailor discount policy accordingly.\n"
      ],
      "metadata": {
        "id": "w6w_pQl2cdh2"
      }
    },
    {
      "cell_type": "markdown",
      "source": [
        "######**Among unprofitable orders, which categories or regions dominate?**"
      ],
      "metadata": {
        "id": "WusNvbeBPfQi"
      }
    },
    {
      "cell_type": "code",
      "source": [
        "# Filtering loss-making orders\n",
        "\n",
        "region_loss = order_region_segment[order_region_segment['Total_Profit']<0]"
      ],
      "metadata": {
        "id": "PVRrApH-EXwX"
      },
      "execution_count": null,
      "outputs": []
    },
    {
      "cell_type": "code",
      "source": [
        "# Proportion of loss-making orders across Regions\n",
        "\n",
        "region_loss['Region'].value_counts(normalize=True)*100"
      ],
      "metadata": {
        "id": "J71J6b6MH52h"
      },
      "execution_count": null,
      "outputs": []
    },
    {
      "cell_type": "markdown",
      "source": [
        "- The highest number of unprofitable orders come from Central region (40%) while least from the South region (13%)."
      ],
      "metadata": {
        "id": "pvJ4ZgcUINgZ"
      }
    },
    {
      "cell_type": "markdown",
      "source": [
        "######**What is the average delivery delay (Ship Date - Order Date), and does it impact customer segments or product types?**"
      ],
      "metadata": {
        "id": "hgC5E_ldPoU3"
      }
    },
    {
      "cell_type": "code",
      "source": [
        "# Changing data type of Delay column\n",
        "\n",
        "unique_orders['Delay']= unique_orders['Delay'].astype(str)"
      ],
      "metadata": {
        "id": "qrsFvmQkSn94"
      },
      "execution_count": null,
      "outputs": []
    },
    {
      "cell_type": "code",
      "source": [
        "# Order frequency across each state shipped via Standard Class which by number of days delayed\n",
        "\n",
        "delay_orders = pd.pivot_table(unique_orders[unique_orders['Ship Mode'] == 'Standard Class'], values = 'Order ID', index = 'State', columns = 'Delay', aggfunc = ['count']).fillna(0)"
      ],
      "metadata": {
        "id": "tZWH_ntQEqUY"
      },
      "execution_count": null,
      "outputs": []
    },
    {
      "cell_type": "code",
      "source": [
        "delay_orders['Sub_Total'] = delay_orders[[('count', '3 days'),\n",
        "            ('count', '4 days'),\n",
        "            ('count', '5 days'),\n",
        "            ('count', '6 days'),\n",
        "            ('count', '7 days')]].sum(axis=1)"
      ],
      "metadata": {
        "id": "9aw9Ir-OFNV7"
      },
      "execution_count": null,
      "outputs": []
    },
    {
      "cell_type": "code",
      "source": [
        "# Grabbing inner column label in multi-index column label\n",
        "\n",
        "delay_orders.columns = [lvl1 for lvl0, lvl1 in delay_orders.columns]"
      ],
      "metadata": {
        "id": "OU5vVxPnXMcS"
      },
      "execution_count": null,
      "outputs": []
    },
    {
      "cell_type": "code",
      "source": [
        "# Renaming for clarity\n",
        "\n",
        "delay_orders.rename(columns={'': 'Total'}, inplace=True)"
      ],
      "metadata": {
        "id": "B_Qw_pQ8YHAS"
      },
      "execution_count": null,
      "outputs": []
    },
    {
      "cell_type": "code",
      "source": [
        "# Proportion of orders delayed by 7 days across each state\n",
        "\n",
        "for index, row in delay_orders.iterrows():\n",
        " print(index, f\"{((row['7 days']/row['Total'])*100):.2f}%\")"
      ],
      "metadata": {
        "id": "48O3DCLzGz7w"
      },
      "execution_count": null,
      "outputs": []
    },
    {
      "cell_type": "code",
      "source": [
        "# Preparing required data\n",
        "\n",
        "# initializing lists\n",
        "proportion = []\n",
        "states = []\n",
        "\n",
        "# looping through dataframe\n",
        "for index, row in delay_orders.iterrows():\n",
        " states.append(index)\n",
        " proportion.append(row['7 days']/row['Total'])"
      ],
      "metadata": {
        "id": "dq0xgOi2Zyvx"
      },
      "execution_count": null,
      "outputs": []
    },
    {
      "cell_type": "code",
      "source": [
        "# top 10 states by proportion of standard delivery orders delayed by 7 days\n",
        "\n",
        "pd.Series(data = proportion,index = states, name = \"Proportion of Orders Delivered in 7 Days\").sort_values(ascending=False).head(10)"
      ],
      "metadata": {
        "id": "Y3b4DXH8Z0yW"
      },
      "execution_count": null,
      "outputs": []
    },
    {
      "cell_type": "markdown",
      "source": [
        "- Across all orders that have been shipped, on average it takes nearly 4 days for delivery.\n",
        "- Standard class is the most widely used shipping mode across regions hence it is studied to narrow states where it is least efficient:\n",
        "  - The store needs to focus on Nevada (33%), Rhode Island (25%), Arkansas (20%) and Alabama (19%) to eliminate logistical inefficiencies due to highest proportion of standard delivery orders being delayed by 7 days in these states to minimise customer dissatisfaction and increase customer lifecycle."
      ],
      "metadata": {
        "id": "Ay0URttTwaUu"
      }
    },
    {
      "cell_type": "markdown",
      "source": [
        "######**Are there any sub-categories that are profitable despite high discounting?**"
      ],
      "metadata": {
        "id": "iwVi4_NbP6V_"
      }
    },
    {
      "cell_type": "code",
      "source": [
        "# Import library\n",
        "from matplotlib.patches import Patch\n",
        "\n",
        "hue_order = ['Technology', 'Office Supplies', 'Furniture']    # manually setting hue_order\n",
        "palette = {                                                   # defining custom palette\n",
        "    'Technology': 'green',\n",
        "    'Office Supplies': 'blue',\n",
        "    'Furniture': 'orange'\n",
        "}\n",
        "\n",
        "# Create FacetGrid object, 'g'\n",
        "g = sns.FacetGrid(df_wd, col='Sub-Category', hue=\"Category\",col_wrap=4,hue_order=hue_order, palette = palette)\n",
        "\n",
        "# Mapping a plot to each facet\n",
        "g.map_dataframe(sns.scatterplot, \"Weighted Discount Rate\", \"Profit\", alpha=0.6)\n",
        "\n",
        "# Customizing plot\n",
        "g.set_axis_labels(\"Weighted Discount Rate\",\"Profit ($)\")\n",
        "g.set_titles(col_template=\"{col_name}\")\n",
        "\n",
        "# Adding reference line\n",
        "g.refline(y=0, linestyle=\"-\", color=\"gray\", linewidth=0.8)\n",
        "\n",
        "# Manually create legend with color markers\n",
        "legend_elements = [Patch(facecolor=palette[cat], label=cat) for cat in hue_order]\n",
        "g.fig.legend(handles=legend_elements, title='Category', loc='center right', bbox_to_anchor=(1.13, 0.5))\n",
        "\n",
        "#g.add_legend()  # Add legend\n",
        "#g._legend.set_bbox_to_anchor((1.13, 0.5))  # Move outside to the right (x, y)\n",
        "#g._legend.set_title('Category')\n",
        "\n",
        "# Show plot\n",
        "g.tight_layout()\n",
        "sns.set_style(\"darkgrid\")\n",
        "plt.show()"
      ],
      "metadata": {
        "id": "tfNSI58iQA9K"
      },
      "execution_count": null,
      "outputs": []
    },
    {
      "cell_type": "markdown",
      "source": [
        "- Copiers are generally profitable despite being discounted up to 40%.\n",
        "- Certain Technology products like machines, certain office supply products such as binders and certain furniture products such as bookcases and tables are non-profitable at higher discounts.\n",
        "- Rest of SKUs are generally stable in their profits across low and high discount levels."
      ],
      "metadata": {
        "id": "zvAWSluhNjXR"
      }
    },
    {
      "cell_type": "markdown",
      "source": [
        "##  Business Insights and Recommendations"
      ],
      "metadata": {
        "id": "pUyagYKhd7x6"
      }
    },
    {
      "cell_type": "markdown",
      "source": [
        "####**Executive Summary**"
      ],
      "metadata": {
        "id": "gjrNB8IoeG9R"
      }
    },
    {
      "cell_type": "markdown",
      "source": [
        "An analysis of 9,994 sales records from 2014 to 2017 for the Retail Superstore chain reveals an overall profit growth of approximately $25,000. However, a notable decline in profitability was observed in Q4 of 2017, particularly within the Technology and Office Supplies categories.\n",
        "\n",
        "Among product segments, Copiers generated the highest average sales value, approximately $1,100 per order. In contrast, Tables, Bookcases, and Supplies incurred the highest per-order losses. Furthermore, discounting patterns show a strong correlation with profitability: 92.9% of orders with discounts exceeding 30% result in a loss, and the store experiences no profit at discount levels beyond 40%, across all product categories.\n",
        "\n",
        "To support sustained profitability and strategic growth, the company should consider:\n",
        "\n",
        "- Implementing data-driven, category-specific discounting strategies;\n",
        "\n",
        "- Expanding efforts in the Central region, which shows potential for targeted growth;\n",
        "\n",
        "- Conducting a root cause analysis to address consistently low profit margins within the Standard shipping class, with the aim of optimizing logistics and pricing decisions."
      ],
      "metadata": {
        "id": "Te0c1Z_9cYq5"
      }
    },
    {
      "cell_type": "markdown",
      "source": [
        "####**Insights Deep-Dive**"
      ],
      "metadata": {
        "id": "a9LQuw9gfppG"
      }
    },
    {
      "cell_type": "markdown",
      "source": [
        "##### **Seasonal Trend**"
      ],
      "metadata": {
        "id": "JmRj9B-Gtlbw"
      }
    },
    {
      "cell_type": "markdown",
      "source": [
        "Profitability:\n",
        "- **Overall Growth**: Profit shows a general increasing trend from 2014 to 2017, with significant spikes in late 2016 and late 2017.\n",
        "- **Seasonality**: Q4 of each year tends to have a strong spike in profits, suggesting seasonal effects (possibly due to holiday sales).\n",
        "- **Recent Stability**: In 2017 Q3 and Q4, profits stabilize at a relatively high level compared to earlier years.\n",
        "- **Product Level Performance**:\n",
        " - Over the last two years, furniture items have comparatively yielded lesser profits ranging between -&#36;2500 and &#36;2800.\n",
        " - Although technology is a high profit yielding category but is also the most volatile, where some months especially Oct 2016 and Mar 2017 had record profit of &#36;11,700 and &#36;11,000 respectively. Nov 2016 and Apr 2017 however, dented the superstore bearing losses of &#36;1500 and &#36;2600 respectively.\n",
        " - Office Supplies profits have also been generally on the rise, with Dec 2016 bringing in highest profit of approx &#36;11,460.\n",
        " - More recently over the last couple of months, the profits for technology and office supply items have dropped while that of furniture has risen.\n",
        " - Office supply items recent drop in profit is due to Binders which despite second highest sales in Q4 has caused superstore to loose approx $700.\n",
        "\n",
        "Sales:\n",
        "- **Steady Growth**: Sales show a strong and relatively consistent upward trend over the years.\n",
        "- **Sharp Drops**: Noticeable sales drops occur in Q1 of each year.\n",
        "- **Acceleration**: The sales growth rate accelerated particularly in 2017.\n",
        "\n",
        "Profit Margin:\n",
        "- **Initial Stability, Later Volatility**: Profit margins are fairly stable around 12–14% from 2014 to early 2016 but become much more volatile afterward.\n",
        "- **High Peaks**: A major peak occurs in 2017 Q1 (around 19%), suggesting exceptional efficiency/profitability for that quarter.\n",
        "-**Decoupling**: Sales and profits are growing, but margins are shrinking, indicating rising costs or inefficiencies.\n",
        "- **Recent Decline**:\n",
        " - After peaking, profit margins decreased sharply towards the end of 2017 despite high sales.\n",
        " - The steepest drop in average profit margin  in the last quarter of 2017 is observed in Consumer segment in Central region (-3% to -17.6%) due to high discounts (60%-80%) given to it, and Home Office segment in South region (19% to 3%).\n",
        " - In South region, the discounts given to Home Office segment have ranged between 0-20% with only a couple of orders that have been discounted more than 50%. This indicates that the profit margin has been impacted by other factors such as costs/sale of low margin products there.\n",
        "\n"
      ],
      "metadata": {
        "id": "m3Jq7pmUtnuB"
      }
    },
    {
      "cell_type": "markdown",
      "source": [
        "##### **Overall Product Performance**"
      ],
      "metadata": {
        "id": "Ce4WR__yeG_X"
      }
    },
    {
      "cell_type": "markdown",
      "source": [
        "- Technology category as a whole is the highest selling and earns highest profit on per order basis with average order value of approximately &#36;219 and profit of nearly &#36;31.\n",
        "\n",
        "- Copier (sub-category bringing in most sales on average of &#36;1,100 per order) is being most ordered by consumers.\n",
        "\n",
        "- Despite least average sales per order, Office Supplies items have the the highest profit margin per order on average of roughly &#36;31.\n",
        "\n",
        "- Furniture has lowest average profit margin of &#36;10 despite roughly equal average sales as technology items, per order."
      ],
      "metadata": {
        "id": "7vb6-3H8s7gY"
      }
    },
    {
      "cell_type": "markdown",
      "source": [
        "##### **Poduct Portfolio Analysis**"
      ],
      "metadata": {
        "id": "qeumWz7_Afm-"
      }
    },
    {
      "cell_type": "markdown",
      "source": [
        "- Binders, papers and furnishings are the most purchased sub-categories by Home office customers in the South region, which is the demographic bringing in highest average sales per order (AOV).\n",
        "\n",
        "- Since this demographic also used standard shipping for most orders which is expected to be the least expensive option (negating the possibility of shipping fees raising AOV), the higher average basket value can be credited to purchase of furnishings due to it's higher comparative price.\n",
        "\n",
        "- Tables, bookcases and supplies have the highest negative profit margin e.g, on average for every &#36;1 the store earns by selling tables, it loses &#36;0.086, while labels, papers and envelopes have the highest profit margin e.g. on average the store earns &#36;0.44 on top of every $1 earned by selling labels.\n",
        "\n",
        "- Copiers are generally profitable despite being discounted up to 40%.\n",
        "Specific products including machines (tech), binders (office supply), bookcases and tables (furniture) are non-profitable at higher discounts."
      ],
      "metadata": {
        "id": "7LIfXN5NAkTk"
      }
    },
    {
      "cell_type": "markdown",
      "source": [
        "##### **Regional Analysis**"
      ],
      "metadata": {
        "id": "ER0iQF3Hs3W3"
      }
    },
    {
      "cell_type": "markdown",
      "source": [
        "- Largest order volume originates from the West region (32%) closely followed by East region (28%).\n",
        "\n",
        "- West region outperforms others with approximately 15% more profit generated compared to East region which is the next most profitable region on per order basis.\n",
        "\n",
        "- Central Region is the most under-performing region with cumulative profit of approx $40,000 which is roughly 3x lesser than West region, and yields the highest number of unprofitable orders (40%).\n",
        "\n",
        "- In the East, South and West regions, consumer segment brings in the biggest share of profit per transaction while corporate segment is biggest profit contributor in Central region (despite consumer segment bringing in the highest order volume).\n",
        "\n",
        "- Unlike other regions where median profit margin (per order basis) is stable across segments, in Central region: the profit margin for Consumer segment (&#36;9.5) is nearly half of Home Office segment (&#36;19).\n",
        "\n",
        "- On average, least sales per order are observed in Central region for the Home Office Segment i.e. approx (&#36;409) while highest average sales interestingly come from the same segment in South region (approx $567) despite least number of orders i.e. 131 total orders."
      ],
      "metadata": {
        "id": "A3fEi71Ps8XN"
      }
    },
    {
      "cell_type": "markdown",
      "source": [
        "##### **Customer Segmentation**"
      ],
      "metadata": {
        "id": "6O8obnFBtJY9"
      }
    },
    {
      "cell_type": "markdown",
      "source": [
        "- Consumer segment brings in the largest order volume across all regions and also the most profit ($ 0.13 million to date which is twice that of the Home Office segment).\n",
        "\n",
        "- On per order basis, highest median profit comes from corporate orders ($16.8) which is expected since they either buy bulk quantity or items higher on the price band.\n",
        "\n",
        "- Besides standard class, all ship modes yield high average profits per order in the Home office segment (excess of &#36;85). First class shipping yields &#36;93 per order on average which is the highest across board.\n",
        "\n",
        "- In Corporate segment, same day shipping yields significantly lower profits per order on average (&#36;31, lowest across board) compared to other shipping modes that yield comparable profits of roughly &#36;60.\n",
        "\n",
        "- Consumer segment yields comparative profits per order on average through different ship modes ranging between &#36;50 (second-class shipping) to &#36;63 (same day shiping)."
      ],
      "metadata": {
        "id": "Ln8q6iwrtZIo"
      }
    },
    {
      "cell_type": "markdown",
      "source": [
        "##### **Discount Effectiveness**"
      ],
      "metadata": {
        "id": "UodC6s_2sqEj"
      }
    },
    {
      "cell_type": "markdown",
      "source": [
        "- The probability of making a loss increases with discount rate generally.\n",
        "40% discount is the threshold beyond which (as a whole across all product categories) the superstore makes no profit.\n",
        "\n",
        "- Overall, 92.9% of high discount orders (>30%) result in loss while only 7.1% result in profit.\n",
        "\n",
        "- Technology is most sensitive to discounts, while furniture and office supplies appear less affected overall.\n",
        "\n",
        "- Technology category displays a noticeable negative trend where higher discounts appear to have a more direct and negative impact on profitability compared to furniture and office supplies.\n",
        "\n",
        "- For furniture items, high discount levels (≥40%) frequently lead to significant losses (margins as low as -200%).\n",
        "\n",
        "- For office Supply items, profit margins remain positive at low discounts but drop drastically at higher discounts (≥ 70%) resulting in heavy losses (-150% to -250% margin) which calls for immediate action."
      ],
      "metadata": {
        "id": "2tz2AtXus7_9"
      }
    },
    {
      "cell_type": "markdown",
      "source": [
        "##### **Shipping Mode and Delays Trend**"
      ],
      "metadata": {
        "id": "pusJ8gyXtZuH"
      }
    },
    {
      "cell_type": "markdown",
      "source": [
        "- Across all orders that have been shipped, on average it takes nearly 4 days for delivery.\n",
        "\n",
        "- Standard Class yields the lowest profit margin despite highest total sales and profit (since it is most widely used). This could be because it is cost-intensive (eating into profits due to high logistics costs from shipping partners).\n",
        "\n",
        "- Despite similar AOV and median profit per transaction/order, Standard class has lowest profit margin (&#36;12.1) while First class has highest profit margin (&#36;13.9) per transaction/order basis.\n",
        "\n",
        "- Nevada (33%), Rhode Island (25%), Arkansas (20%) and Alabama (19%) are most susceptible to order delays evident by highest proportion of standard delivery orders being delayed by 7 days in these states.\n",
        "\n",
        "- Central region has been struggling in making profit compared to other regions amongst all shipping modes with with first class and same day shipping yielding lowest average profits per order across the board, &#36;21 and &#36;25 respectively.\n",
        "\n",
        "- Same day shipping is out-performing in East and West bringing in roughly &#36;108 and &#36;91 per order, respectively, however, in South it has caused significant loss, on average the superstore loses $45 per order that is shipped same day.\n"
      ],
      "metadata": {
        "id": "6K7bU0xvtk-p"
      }
    },
    {
      "cell_type": "markdown",
      "source": [
        "####**Recommendations**"
      ],
      "metadata": {
        "id": "Zk_OXHfLfw9Y"
      }
    },
    {
      "cell_type": "markdown",
      "source": [
        "##### **Product Startegy**"
      ],
      "metadata": {
        "id": "0BEjQDcmfynu"
      }
    },
    {
      "cell_type": "markdown",
      "source": [
        "- Plan on raising inventory levels of office supplies items but re-consider pricing or discount of furniture items (specifically low profit earners at higher discounts such as bookcases and tables).\n",
        "- Specifically, focus on efficent inventory forecasting for high-sale items such as Copiers and consider phasing out Machines from the product portfolio due to significant losses in range of &#36;2000  to &#36;4000.\n",
        "- Although technology profits are volatile, the store can rely on phone sales for being majorly profitable.\n",
        "- Focus marketing efforts on SKUs with high profit-margins across all regions such as labels, paper, and envelopes.\n",
        "- Re-evaluate discount policy or re-negotiate costs with manufacturers/logistic partners for low profit-margin SKUs including tables, bookcases and supplies."
      ],
      "metadata": {
        "id": "qPpYMFBStzuP"
      }
    },
    {
      "cell_type": "markdown",
      "source": [
        "##### **Regional Customer Growth and Retention**"
      ],
      "metadata": {
        "id": "AHe4fi2Rt0jc"
      }
    },
    {
      "cell_type": "markdown",
      "source": [
        "- Target Consumer segment (specially in the Central region) with product bundling offers of high-margin products or upsell incentives to boost average order basket value such as free shipping for minimum spend in specific high margin product categories.\n",
        "\n",
        "- Ensure the longevity of Corporate segment's high profitability in the Central region by offering incentized offerings such subscription-like contracts or flat discounts on bulk purchases of high-margin products to safeguard profitability.\n",
        "\n",
        "-  Replicate effective strategies of Home Office segment from the South region in Central region to boost it's average order value including product pricing, discount thresholds and limited time incentives.\n",
        "\n",
        "- Leverage recommendation engines to offer personalised product offerings and advertisments based on purchase patterns towards Consumer segment specially in the West and East regions which bring in the highest order volume and overall profit."
      ],
      "metadata": {
        "id": "Ubm2Gdmct5ck"
      }
    },
    {
      "cell_type": "markdown",
      "source": [
        "##### **Discount Optimization**"
      ],
      "metadata": {
        "id": "OgyhOFzhuAdX"
      }
    },
    {
      "cell_type": "markdown",
      "source": [
        "- Implementation of tailored discounting strategies are necessary for different product categories to optimize profitability:\n",
        " - For Technology products:\n",
        "   - Higher markup provides cushion to margins at higher discounts, hence leverage discount (up to  45-50%) to boost sales volume.\n",
        "   - Use time-bound promotions (e.g., \"48-hour flash sale\") and bundle with services (e.g., warranties) to limit margin erosion.\n",
        " - For Furniture and Office Supplies:\n",
        "   - Cap discount levels at no higher than 20-25% to prevent significant losses.\n",
        "   - Offer product bundling or value-added offers for office supply items instead of flat discounts to drive demand while safeguarding profitability.\n"
      ],
      "metadata": {
        "id": "Eran6dKVuNkP"
      }
    },
    {
      "cell_type": "markdown",
      "source": [
        "##### **Addressing Logistical Shortcomings**"
      ],
      "metadata": {
        "id": "zBRb5iWyER01"
      }
    },
    {
      "cell_type": "markdown",
      "source": [
        "- Cut down logistical inefficiencies for same day shipping in the South region by adopting best practises from the West and the East such as warehouse processes and inventory allignment with the demand tracked most preferably in real-time.\n",
        "\n",
        "- Investigate the driver of low profit margin for Standard class shipping:\n",
        " - Re-negotiate bulk rate discounts for standard class carriers to improve the profit margin if it is caused by higher fixed logistical costs.\n",
        " - Consider bundling offers with high-margin products against incentives such as limited discounts or shipping fee cuts if majorly low-margin product SKUs are being purchased through standard shipping mode.\n",
        " - If driven by high promotional discounts, shift toward loyalty-based or reward-point based incentives instead of flat discounts.\n",
        "\n",
        "- Central region calls for root cause identification:\n",
        "  -  Identify cost inefficiencies (e.g., last-mile delivery, warehouse distance, low route density) and benchmark these costs against other regions.\n",
        "\n",
        " - Reassess Product-Shipping Fit: if low-margin products are disproportionately being shipped via First Class or Same Day shipping then restricting them for such SKUs is recommended.\n"
      ],
      "metadata": {
        "id": "V9JygLKEEc_I"
      }
    },
    {
      "cell_type": "markdown",
      "source": [
        "####**Assumptions, Caveats and Next Steps**"
      ],
      "metadata": {
        "id": "s0t7TFrVf4Qj"
      }
    },
    {
      "cell_type": "markdown",
      "source": [
        "**Discount Application Assumption**: It is assumed that the discount value in each transaction record is applied to the total quantity purchased, not just to a single unit.\n",
        "\n",
        "**Cost Data Limitation**: The absence of cost-related data—specifically unit cost price (COGS) and logistics costs—limits the ability to fully explain certain observations. For example, the low profit margins associated with the Standard shipping class cannot be conclusively attributed to discounting without ruling out cost as a potential driver. Similarly, identifying low-margin SKUs is constrained by this data gap.\n",
        "\n",
        "**Next Steps and Recommendations**: To validate or refute potential business loss drivers, such as the hypothesis that aggressive discounting on items primarily shipped via Standard class is reducing profit margins, the store should consider conducting further statistical analyses. This includes A/B testing or controlled experiments to determine the true impact of discount strategies on profitability."
      ],
      "metadata": {
        "id": "M6mxmi-lf8R0"
      }
    }
  ]
}